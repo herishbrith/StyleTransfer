{
 "cells": [
  {
   "cell_type": "code",
   "execution_count": 1,
   "metadata": {},
   "outputs": [
    {
     "name": "stderr",
     "output_type": "stream",
     "text": [
      "Using TensorFlow backend.\n"
     ]
    }
   ],
   "source": [
    "from __future__ import print_function\n",
    "\n",
    "import numpy as np\n",
    "\n",
    "import matplotlib.pyplot as plt\n",
    "from matplotlib.pyplot import imshow\n",
    "\n",
    "from keras.applications import vgg19\n",
    "from keras.layers import Dense, Input, Flatten\n",
    "from keras.models import Sequential, Model\n",
    "import tensorflow as tf\n",
    "\n",
    "# Set backend as tensorflow\n",
    "from keras import backend as K\n",
    "K.set_image_dim_ordering(\"tf\")\n",
    "\n",
    "from PIL import Image\n",
    "\n",
    "%matplotlib inline"
   ]
  },
  {
   "cell_type": "code",
   "execution_count": 2,
   "metadata": {},
   "outputs": [],
   "source": [
    "# Reset the graph\n",
    "tf.reset_default_graph()\n",
    "\n",
    "# Start interactive session\n",
    "sess = tf.InteractiveSession()\n",
    "K.set_session(sess)"
   ]
  },
  {
   "cell_type": "code",
   "execution_count": 3,
   "metadata": {},
   "outputs": [
    {
     "name": "stdout",
     "output_type": "stream",
     "text": [
      "[u'block1_conv1', u'block1_conv2', u'block1_pool', u'block2_conv1', u'block2_conv2', u'block2_pool', u'block3_conv1', u'block3_conv2', u'block3_conv3', u'block3_conv4', u'block3_pool', u'block4_conv1', u'block4_conv2', u'block4_conv3', u'block4_conv4', u'block4_pool', u'block5_conv1', u'block5_conv2', u'block5_conv3', u'block5_conv4', u'block5_pool', u'input_2']\n"
     ]
    }
   ],
   "source": [
    "import h5py\n",
    "\n",
    "f = h5py.File(\"vgg19_weights_tf_dim_ordering_tf_kernels_notop.h5\", \"r\")\n",
    "print(f.keys())"
   ]
  },
  {
   "cell_type": "code",
   "execution_count": 4,
   "metadata": {},
   "outputs": [],
   "source": [
    "class CONFIG:\n",
    "    IMAGE_WIDTH = 224\n",
    "    IMAGE_HEIGHT = 224\n",
    "    COLOR_CHANNELS = 3\n",
    "    CONTENT_WEIGHT = 0.025\n",
    "    STYLE_WEIGHT = 5.0\n",
    "    TOTAL_VARIATION_WEIGHT = 1.0\n",
    "    MEANS = np.array([123.68, 116.779, 103.939]).reshape((1,1,1,3))"
   ]
  },
  {
   "cell_type": "code",
   "execution_count": 5,
   "metadata": {},
   "outputs": [],
   "source": [
    "def reshape_and_normalize_image(image_path):\n",
    "    \"\"\"\n",
    "    Reshape and normalize the input image (content or style)\n",
    "    \"\"\"\n",
    "    \n",
    "    image = Image.open(image_path)\n",
    "    image = image.resize((CONFIG.IMAGE_WIDTH, CONFIG.IMAGE_HEIGHT))\n",
    "    \n",
    "    image_array = np.asarray(image, dtype='float32')\n",
    "    image = np.expand_dims(image_array, axis=0)\n",
    "    \n",
    "    # Substract the mean to match the expected input of VGG16\n",
    "    image = image - CONFIG.MEANS\n",
    "    \n",
    "    return image"
   ]
  },
  {
   "cell_type": "code",
   "execution_count": 6,
   "metadata": {},
   "outputs": [],
   "source": [
    "# Get content_image from file\n",
    "content_image_path = \"./images/monet.jpg\"\n",
    "content_image = reshape_and_normalize_image(content_image_path)"
   ]
  },
  {
   "cell_type": "code",
   "execution_count": 7,
   "metadata": {},
   "outputs": [],
   "source": [
    "style_image_path = \"./images/louvre_small.jpg\"\n",
    "style_image = reshape_and_normalize_image(style_image_path)"
   ]
  },
  {
   "cell_type": "code",
   "execution_count": 8,
   "metadata": {},
   "outputs": [],
   "source": [
    "# Generate a random noise_image\n",
    "generated_image = np.random.uniform(-20, 20, (1, CONFIG.IMAGE_HEIGHT, CONFIG.IMAGE_WIDTH, CONFIG.COLOR_CHANNELS)) \\\n",
    "                    .astype('float32')\n",
    "\n",
    "# Set the input_image to be a weighted average of the content_image and a noise_image\n",
    "generated_image = generated_image * 0.6 + content_image * (1 - 0.6)"
   ]
  },
  {
   "cell_type": "code",
   "execution_count": 9,
   "metadata": {},
   "outputs": [],
   "source": [
    "input_tensor = tf.Variable(np.zeros((1, CONFIG.IMAGE_HEIGHT, CONFIG.IMAGE_WIDTH, CONFIG.COLOR_CHANNELS)),\n",
    "                           dtype='float32', name=\"input_tensor\")"
   ]
  },
  {
   "cell_type": "code",
   "execution_count": 10,
   "metadata": {},
   "outputs": [],
   "source": [
    "model = vgg19.VGG19(weights=None, input_tensor=input_tensor, include_top=False)\n",
    "model.load_weights(\"vgg19_weights_tf_dim_ordering_tf_kernels_notop.h5\")"
   ]
  },
  {
   "cell_type": "code",
   "execution_count": 16,
   "metadata": {},
   "outputs": [],
   "source": [
    "# flatten = Flatten(input_shape=(None, 300, 400, 3))(model.output)\n",
    "# dense_outputs = Dense(2, activation='softmax')(flatten)"
   ]
  },
  {
   "cell_type": "code",
   "execution_count": 43,
   "metadata": {},
   "outputs": [
    {
     "name": "stdout",
     "output_type": "stream",
     "text": [
      "_________________________________________________________________\n",
      "Layer (type)                 Output Shape              Param #   \n",
      "=================================================================\n",
      "input_1 (InputLayer)         (None, None, None, 3)     0         \n",
      "_________________________________________________________________\n",
      "block1_conv1 (Conv2D)        (None, None, None, 64)    1792      \n",
      "_________________________________________________________________\n",
      "block1_conv2 (Conv2D)        (None, None, None, 64)    36928     \n",
      "_________________________________________________________________\n",
      "block1_pool (MaxPooling2D)   (None, None, None, 64)    0         \n",
      "_________________________________________________________________\n",
      "block2_conv1 (Conv2D)        (None, None, None, 128)   73856     \n",
      "_________________________________________________________________\n",
      "block2_conv2 (Conv2D)        (None, None, None, 128)   147584    \n",
      "_________________________________________________________________\n",
      "block2_pool (MaxPooling2D)   (None, None, None, 128)   0         \n",
      "_________________________________________________________________\n",
      "block3_conv1 (Conv2D)        (None, None, None, 256)   295168    \n",
      "_________________________________________________________________\n",
      "block3_conv2 (Conv2D)        (None, None, None, 256)   590080    \n",
      "_________________________________________________________________\n",
      "block3_conv3 (Conv2D)        (None, None, None, 256)   590080    \n",
      "_________________________________________________________________\n",
      "block3_conv4 (Conv2D)        (None, None, None, 256)   590080    \n",
      "_________________________________________________________________\n",
      "block3_pool (MaxPooling2D)   (None, None, None, 256)   0         \n",
      "_________________________________________________________________\n",
      "block4_conv1 (Conv2D)        (None, None, None, 512)   1180160   \n",
      "_________________________________________________________________\n",
      "block4_conv2 (Conv2D)        (None, None, None, 512)   2359808   \n",
      "_________________________________________________________________\n",
      "block4_conv3 (Conv2D)        (None, None, None, 512)   2359808   \n",
      "_________________________________________________________________\n",
      "block4_conv4 (Conv2D)        (None, None, None, 512)   2359808   \n",
      "_________________________________________________________________\n",
      "block4_pool (MaxPooling2D)   (None, None, None, 512)   0         \n",
      "_________________________________________________________________\n",
      "block5_conv1 (Conv2D)        (None, None, None, 512)   2359808   \n",
      "_________________________________________________________________\n",
      "block5_conv2 (Conv2D)        (None, None, None, 512)   2359808   \n",
      "_________________________________________________________________\n",
      "block5_conv3 (Conv2D)        (None, None, None, 512)   2359808   \n",
      "_________________________________________________________________\n",
      "block5_conv4 (Conv2D)        (None, None, None, 512)   2359808   \n",
      "_________________________________________________________________\n",
      "block5_pool (MaxPooling2D)   (None, None, None, 512)   0         \n",
      "=================================================================\n",
      "Total params: 20,024,384\n",
      "Trainable params: 20,024,384\n",
      "Non-trainable params: 0\n",
      "_________________________________________________________________\n"
     ]
    }
   ],
   "source": [
    "model.summary()"
   ]
  },
  {
   "cell_type": "code",
   "execution_count": 51,
   "metadata": {},
   "outputs": [
    {
     "name": "stdout",
     "output_type": "stream",
     "text": [
      "[[[[  41.31999969   53.22100067   70.06099701]\n",
      "   [  44.31999969   54.22100067   74.06099701]\n",
      "   [  46.31999969   52.22100067   73.06099701]\n",
      "   ..., \n",
      "   [ 100.31999969   73.22100067   74.06099701]\n",
      "   [ 102.31999969   76.22100067   74.06099701]\n",
      "   [ 104.31999969   78.22100067   76.06099701]]\n",
      "\n",
      "  [[  39.31999969   49.22100067   67.06099701]\n",
      "   [  46.31999969   56.22100067   76.06099701]\n",
      "   [  52.31999969   58.22100067   79.06099701]\n",
      "   ..., \n",
      "   [ 104.31999969   75.22100067   76.06099701]\n",
      "   [ 103.31999969   77.22100067   75.06099701]\n",
      "   [ 102.31999969   76.22100067   74.06099701]]\n",
      "\n",
      "  [[  39.31999969   49.22100067   67.06099701]\n",
      "   [  46.31999969   56.22100067   76.06099701]\n",
      "   [  51.31999969   57.22100067   78.06099701]\n",
      "   ..., \n",
      "   [ 107.31999969   78.22100067   79.06099701]\n",
      "   [ 107.31999969   78.22100067   77.06099701]\n",
      "   [ 104.31999969   75.22100067   74.06099701]]\n",
      "\n",
      "  ..., \n",
      "  [[-112.68000031 -102.77899933 -100.93900299]\n",
      "   [-111.68000031 -101.77899933  -99.93900299]\n",
      "   [-113.68000031 -103.77899933  -97.93900299]\n",
      "   ..., \n",
      "   [ -21.68000031  -13.77900028  -66.93900299]\n",
      "   [ -23.68000031  -14.77900028  -67.93900299]\n",
      "   [ -11.68000031   -5.77899981  -56.93899918]]\n",
      "\n",
      "  [[-110.68000031  -99.77899933 -100.93900299]\n",
      "   [-111.68000031 -101.77899933  -99.93900299]\n",
      "   [-111.68000031 -101.77899933  -97.93900299]\n",
      "   ..., \n",
      "   [ -21.68000031  -12.77900028  -64.93900299]\n",
      "   [ -26.68000031  -12.77900028  -66.93900299]\n",
      "   [ -15.68000031   -8.77900028  -59.93899918]]\n",
      "\n",
      "  [[-105.68000031  -96.77899933  -96.93900299]\n",
      "   [-113.68000031 -104.77899933 -102.93900299]\n",
      "   [-110.68000031 -102.77899933  -97.93900299]\n",
      "   ..., \n",
      "   [ -21.68000031   -8.77900028  -59.93899918]\n",
      "   [ -29.68000031  -11.77900028  -64.93900299]\n",
      "   [ -23.68000031  -11.77900028  -64.93900299]]]]\n",
      "[[[[  41.32    53.221   70.061]\n",
      "   [  44.32    54.221   74.061]\n",
      "   [  46.32    52.221   73.061]\n",
      "   ..., \n",
      "   [ 100.32    73.221   74.061]\n",
      "   [ 102.32    76.221   74.061]\n",
      "   [ 104.32    78.221   76.061]]\n",
      "\n",
      "  [[  39.32    49.221   67.061]\n",
      "   [  46.32    56.221   76.061]\n",
      "   [  52.32    58.221   79.061]\n",
      "   ..., \n",
      "   [ 104.32    75.221   76.061]\n",
      "   [ 103.32    77.221   75.061]\n",
      "   [ 102.32    76.221   74.061]]\n",
      "\n",
      "  [[  39.32    49.221   67.061]\n",
      "   [  46.32    56.221   76.061]\n",
      "   [  51.32    57.221   78.061]\n",
      "   ..., \n",
      "   [ 107.32    78.221   79.061]\n",
      "   [ 107.32    78.221   77.061]\n",
      "   [ 104.32    75.221   74.061]]\n",
      "\n",
      "  ..., \n",
      "  [[-112.68  -102.779 -100.939]\n",
      "   [-111.68  -101.779  -99.939]\n",
      "   [-113.68  -103.779  -97.939]\n",
      "   ..., \n",
      "   [ -21.68   -13.779  -66.939]\n",
      "   [ -23.68   -14.779  -67.939]\n",
      "   [ -11.68    -5.779  -56.939]]\n",
      "\n",
      "  [[-110.68   -99.779 -100.939]\n",
      "   [-111.68  -101.779  -99.939]\n",
      "   [-111.68  -101.779  -97.939]\n",
      "   ..., \n",
      "   [ -21.68   -12.779  -64.939]\n",
      "   [ -26.68   -12.779  -66.939]\n",
      "   [ -15.68    -8.779  -59.939]]\n",
      "\n",
      "  [[-105.68   -96.779  -96.939]\n",
      "   [-113.68  -104.779 -102.939]\n",
      "   [-110.68  -102.779  -97.939]\n",
      "   ..., \n",
      "   [ -21.68    -8.779  -59.939]\n",
      "   [ -29.68   -11.779  -64.939]\n",
      "   [ -23.68   -11.779  -64.939]]]]\n"
     ]
    }
   ],
   "source": [
    "#Create your own model \n",
    "# prediction_model = Model(inputs=model.input, outputs=model.output)\n",
    "\n",
    "sess.run(input_tensor.assign(content_image))\n",
    "\n",
    "print(sess.run(model.get_layer(\"input_1\").output))\n",
    "print(content_image)\n",
    "\n",
    "#In the summary, weights and layers from VGG part will be hidden, but they will be fit during the training\n",
    "# prediction_model.summary()"
   ]
  },
  {
   "cell_type": "code",
   "execution_count": 49,
   "metadata": {},
   "outputs": [],
   "source": [
    "# prediction_model.compile(optimizer='adam', loss='categorical_crossentropy', metrics=['accuracy'])"
   ]
  },
  {
   "cell_type": "code",
   "execution_count": 51,
   "metadata": {},
   "outputs": [],
   "source": [
    "# data = np.random.random((1000, 224, 224, 3))\n",
    "# labels = np.random.randint(2, size=(1000, 2))\n",
    "# prediction_model.fit(data, labels, epochs=10, batch_size=32)"
   ]
  },
  {
   "cell_type": "code",
   "execution_count": null,
   "metadata": {},
   "outputs": [],
   "source": []
  },
  {
   "cell_type": "code",
   "execution_count": null,
   "metadata": {},
   "outputs": [],
   "source": []
  },
  {
   "cell_type": "code",
   "execution_count": null,
   "metadata": {},
   "outputs": [],
   "source": []
  },
  {
   "cell_type": "code",
   "execution_count": null,
   "metadata": {},
   "outputs": [],
   "source": []
  },
  {
   "cell_type": "code",
   "execution_count": null,
   "metadata": {},
   "outputs": [],
   "source": []
  },
  {
   "cell_type": "code",
   "execution_count": null,
   "metadata": {},
   "outputs": [],
   "source": []
  },
  {
   "cell_type": "code",
   "execution_count": null,
   "metadata": {},
   "outputs": [],
   "source": []
  },
  {
   "cell_type": "code",
   "execution_count": null,
   "metadata": {},
   "outputs": [],
   "source": []
  },
  {
   "cell_type": "code",
   "execution_count": null,
   "metadata": {},
   "outputs": [],
   "source": []
  },
  {
   "cell_type": "code",
   "execution_count": null,
   "metadata": {},
   "outputs": [],
   "source": []
  },
  {
   "cell_type": "code",
   "execution_count": null,
   "metadata": {},
   "outputs": [],
   "source": []
  }
 ],
 "metadata": {
  "kernelspec": {
   "display_name": "Python 2",
   "language": "python",
   "name": "python2"
  },
  "language_info": {
   "codemirror_mode": {
    "name": "ipython",
    "version": 2
   },
   "file_extension": ".py",
   "mimetype": "text/x-python",
   "name": "python",
   "nbconvert_exporter": "python",
   "pygments_lexer": "ipython2",
   "version": "2.7.14"
  }
 },
 "nbformat": 4,
 "nbformat_minor": 2
}
