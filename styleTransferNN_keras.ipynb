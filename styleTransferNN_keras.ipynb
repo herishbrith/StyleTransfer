{
 "cells": [
  {
   "cell_type": "code",
   "execution_count": 35,
   "metadata": {},
   "outputs": [],
   "source": [
    "from __future__ import print_function\n",
    "\n",
    "import numpy as np\n",
    "import scipy.misc\n",
    "import scipy.io\n",
    "import scipy as sc\n",
    "import tensorflow as tf\n",
    "from PIL import Image\n",
    "\n",
    "from keras.layers import Input\n",
    "from keras.applications import vgg19\n",
    "from keras.optimizers import SGD\n",
    "from keras.models import Model\n",
    "\n",
    "import keras.backend as K\n",
    "\n",
    "import matplotlib.pyplot as plt\n",
    "from matplotlib.pyplot import imshow\n",
    "%matplotlib inline"
   ]
  },
  {
   "cell_type": "code",
   "execution_count": 2,
   "metadata": {},
   "outputs": [],
   "source": [
    "class CONFIG:\n",
    "    IMAGE_WIDTH = 400\n",
    "    IMAGE_HEIGHT = 300\n",
    "    COLOR_CHANNELS = 3\n",
    "    CONTENT_WEIGHT = 5\n",
    "    STYLE_WEIGHT = 100\n",
    "    TOTAL_VARIATION_WEIGHT = 1.\n",
    "    NOISE_RATIO = .6\n",
    "    MEANS = np.array([123.68, 116.779, 103.939]).reshape((1,1,1,3))"
   ]
  },
  {
   "cell_type": "code",
   "execution_count": 3,
   "metadata": {},
   "outputs": [],
   "source": [
    "STYLE_LAYERS = [\n",
    "    ('block1_conv1', .5),\n",
    "#     ('block1_conv2', .2),\n",
    "    ('block2_conv1', .5),\n",
    "#     ('block2_conv2', .2),\n",
    "    ('block3_conv1', .5),\n",
    "#     ('block3_conv2', 0.2),\n",
    "#     ('block3_conv3', .2),\n",
    "#     ('block3_conv4', 0.2),\n",
    "    ('block4_conv1', .5),\n",
    "#     ('block4_conv2', 0.2),\n",
    "#     ('block4_conv3', 0.2),\n",
    "#     ('block4_conv4', .2),\n",
    "    ('block5_conv1', .5),\n",
    "#     ('block5_conv2', 0.2),\n",
    "#     ('block5_conv3', 0.2),\n",
    "#     ('block5_conv4', .2)\n",
    "]"
   ]
  },
  {
   "cell_type": "code",
   "execution_count": 4,
   "metadata": {},
   "outputs": [],
   "source": [
    "def reshape_and_normalize_image(image_path):\n",
    "    \"\"\"\n",
    "    Reshape and normalize the input image (content or style)\n",
    "    \"\"\"\n",
    "    \n",
    "    image = Image.open(image_path)\n",
    "    image = image.resize((CONFIG.IMAGE_WIDTH, CONFIG.IMAGE_HEIGHT))\n",
    "    \n",
    "    image_array = np.asarray(image, dtype='float32')\n",
    "    image = np.expand_dims(image_array, axis=0)\n",
    "    \n",
    "    # Substract the mean to match the expected input of VGG16\n",
    "    image = image - CONFIG.MEANS\n",
    "    \n",
    "    return image"
   ]
  },
  {
   "cell_type": "code",
   "execution_count": 5,
   "metadata": {},
   "outputs": [],
   "source": [
    "def generate_noise_image(content_image, noise_ratio = CONFIG.NOISE_RATIO):\n",
    "    \"\"\"\n",
    "    Generates a noisy image by adding random noise to the content_image\n",
    "    \"\"\"\n",
    "    \n",
    "    # Generate a random noise_image\n",
    "    noise_image = np.random.uniform(-20, 20, (1, CONFIG.IMAGE_HEIGHT, CONFIG.IMAGE_WIDTH,\n",
    "                                              CONFIG.COLOR_CHANNELS)).astype('float32')\n",
    "    \n",
    "    # Set the input_image to be a weighted average of the content_image and a noise_image\n",
    "    input_image = noise_image * noise_ratio + content_image * (1 - noise_ratio)\n",
    "    \n",
    "    return input_image"
   ]
  },
  {
   "cell_type": "code",
   "execution_count": 6,
   "metadata": {},
   "outputs": [],
   "source": [
    "content_image_path = \"./images/louvre_small.jpg\"\n",
    "content_image = reshape_and_normalize_image(content_image_path)\n",
    "\n",
    "style_image_path = \"./images/monet.jpg\"\n",
    "style_image = reshape_and_normalize_image(style_image_path)\n",
    "\n",
    "generated_image = generate_noise_image(content_image)"
   ]
  },
  {
   "cell_type": "code",
   "execution_count": 7,
   "metadata": {},
   "outputs": [],
   "source": [
    "def compute_content_loss(content, generated):\n",
    "    m, n_H, n_W, n_C = generated.shape\n",
    "\n",
    "    content = np.reshape(content, [-1])\n",
    "    generated = np.reshape(generated, [-1])\n",
    "\n",
    "    return np.sum(np.square(content - generated)) / (4*n_H*n_W*n_C)"
   ]
  },
  {
   "cell_type": "code",
   "execution_count": 8,
   "metadata": {},
   "outputs": [],
   "source": [
    "def gram_matrix(x):\n",
    "    gram = np.dot(np.transpose(x), x)\n",
    "    return gram\n",
    "\n",
    "def style_layer_loss(style, generated):\n",
    "    m, n_H, n_W, n_C = generated.shape\n",
    "    \n",
    "    style = np.reshape(style, (n_H*n_W, n_C))\n",
    "    generated = np.reshape(generated, (n_H*n_W, n_C))\n",
    "    \n",
    "    S = gram_matrix(style)\n",
    "    G = gram_matrix(generated)\n",
    "\n",
    "    channels = n_C\n",
    "    size = n_H*n_W\n",
    "\n",
    "    return np.sum(np.square(S - G)) / (4. * (channels ** 2) * (size ** 2))"
   ]
  },
  {
   "cell_type": "code",
   "execution_count": 9,
   "metadata": {},
   "outputs": [],
   "source": [
    "sess = tf.Session()\n",
    "K.set_session(sess)"
   ]
  },
  {
   "cell_type": "code",
   "execution_count": 10,
   "metadata": {},
   "outputs": [],
   "source": [
    "input_shape = (CONFIG.IMAGE_HEIGHT, CONFIG.IMAGE_WIDTH, CONFIG.COLOR_CHANNELS)\n",
    "model = vgg19.VGG19(weights=None, input_shape=input_shape, include_top=False)\n",
    "model.load_weights(\"./vgg19_weights_tf_dim_ordering_tf_kernels_notop.h5\")"
   ]
  },
  {
   "cell_type": "code",
   "execution_count": 11,
   "metadata": {},
   "outputs": [],
   "source": [
    "# get the symbolic outputs of each \"key\" layer (we gave them unique names).\n",
    "outputs_dict = dict([(layer.name, layer.output) for layer in model.layers])"
   ]
  },
  {
   "cell_type": "code",
   "execution_count": 12,
   "metadata": {},
   "outputs": [],
   "source": [
    "# make list of all the layers defined in STYLE_LAYERS\n",
    "layer_tensors = [outputs_dict[layer_name] for layer_name, _ in STYLE_LAYERS]\n",
    "layer_tensors.append(model.input)"
   ]
  },
  {
   "cell_type": "code",
   "execution_count": 13,
   "metadata": {},
   "outputs": [],
   "source": [
    "new_model = Model(inputs=model.input, outputs=layer_tensors)"
   ]
  },
  {
   "cell_type": "code",
   "execution_count": 14,
   "metadata": {},
   "outputs": [],
   "source": [
    "def total_loss(alpha=20, beta=40):\n",
    "    \n",
    "    content_layers = new_model.predict(content_image)\n",
    "    generated_layers = new_model.predict(generated_image)\n",
    "\n",
    "    # Get content loss from output of block 4, layer 2\n",
    "    content_features = content_layers[-2]\n",
    "    generated_features = generated_layers[-2]\n",
    "    content_loss = compute_content_loss(content_features, generated_features)\n",
    "    \n",
    "    # loss for style image\n",
    "    style_loss = 0.\n",
    "    style_layers = new_model.predict(style_image)\n",
    "    \n",
    "    i = len(STYLE_LAYERS)\n",
    "    for _, coeff in STYLE_LAYERS:\n",
    "        # Select the output tensor of the currently selected layer\n",
    "        style_features = style_layers[-i]\n",
    "        generated_features = generated_layers[-i]\n",
    "        style_loss += coeff * style_layer_loss(style_features, generated_features)\n",
    "        i -= 1\n",
    "    \n",
    "    # Get total loss using alpha and beta\n",
    "    total_loss = (content_loss*alpha) + (style_loss*beta)\n",
    "    \n",
    "    return total_loss"
   ]
  },
  {
   "cell_type": "code",
   "execution_count": 15,
   "metadata": {},
   "outputs": [],
   "source": [
    "J = total_loss()"
   ]
  },
  {
   "cell_type": "code",
   "execution_count": 16,
   "metadata": {
    "scrolled": true
   },
   "outputs": [
    {
     "data": {
      "text/plain": [
       "array([[[[  5.10645485e+01,   0.00000000e+00,   7.23399582e+01, ...,\n",
       "            4.46864243e+01,   0.00000000e+00,   0.00000000e+00],\n",
       "         [  2.00483532e+01,   0.00000000e+00,   0.00000000e+00, ...,\n",
       "            0.00000000e+00,   0.00000000e+00,   0.00000000e+00],\n",
       "         [  3.05583630e+01,   0.00000000e+00,   0.00000000e+00, ...,\n",
       "            0.00000000e+00,   0.00000000e+00,   0.00000000e+00],\n",
       "         ..., \n",
       "         [  0.00000000e+00,   0.00000000e+00,   0.00000000e+00, ...,\n",
       "            0.00000000e+00,   0.00000000e+00,   0.00000000e+00],\n",
       "         [  0.00000000e+00,   0.00000000e+00,   0.00000000e+00, ...,\n",
       "            0.00000000e+00,   0.00000000e+00,   0.00000000e+00],\n",
       "         [  0.00000000e+00,   0.00000000e+00,   0.00000000e+00, ...,\n",
       "            0.00000000e+00,   0.00000000e+00,   2.44372582e+00]],\n",
       "\n",
       "        [[  5.40156794e+00,   0.00000000e+00,   1.04163216e+02, ...,\n",
       "            6.66441584e+00,   0.00000000e+00,   0.00000000e+00],\n",
       "         [  0.00000000e+00,   0.00000000e+00,   0.00000000e+00, ...,\n",
       "            0.00000000e+00,   0.00000000e+00,   0.00000000e+00],\n",
       "         [  7.22296685e-02,   0.00000000e+00,   0.00000000e+00, ...,\n",
       "            0.00000000e+00,   0.00000000e+00,   0.00000000e+00],\n",
       "         ..., \n",
       "         [  0.00000000e+00,   0.00000000e+00,   0.00000000e+00, ...,\n",
       "            0.00000000e+00,   0.00000000e+00,   0.00000000e+00],\n",
       "         [  0.00000000e+00,   0.00000000e+00,   0.00000000e+00, ...,\n",
       "            0.00000000e+00,   0.00000000e+00,   0.00000000e+00],\n",
       "         [  0.00000000e+00,   0.00000000e+00,   0.00000000e+00, ...,\n",
       "            0.00000000e+00,   0.00000000e+00,   2.56960773e+01]],\n",
       "\n",
       "        [[  8.20573139e+00,   0.00000000e+00,   5.14867973e+01, ...,\n",
       "            6.95610046e+00,   0.00000000e+00,   0.00000000e+00],\n",
       "         [  0.00000000e+00,   0.00000000e+00,   0.00000000e+00, ...,\n",
       "            0.00000000e+00,   0.00000000e+00,   0.00000000e+00],\n",
       "         [  0.00000000e+00,   0.00000000e+00,   0.00000000e+00, ...,\n",
       "            0.00000000e+00,   0.00000000e+00,   0.00000000e+00],\n",
       "         ..., \n",
       "         [  0.00000000e+00,   0.00000000e+00,   0.00000000e+00, ...,\n",
       "            0.00000000e+00,   0.00000000e+00,   0.00000000e+00],\n",
       "         [  0.00000000e+00,   0.00000000e+00,   0.00000000e+00, ...,\n",
       "            0.00000000e+00,   0.00000000e+00,   0.00000000e+00],\n",
       "         [  0.00000000e+00,   0.00000000e+00,   0.00000000e+00, ...,\n",
       "            0.00000000e+00,   0.00000000e+00,   1.40571566e+01]],\n",
       "\n",
       "        ..., \n",
       "        [[  1.18105347e+02,   0.00000000e+00,   0.00000000e+00, ...,\n",
       "            8.09844375e-01,   0.00000000e+00,   0.00000000e+00],\n",
       "         [  1.17169983e+02,   0.00000000e+00,   0.00000000e+00, ...,\n",
       "            0.00000000e+00,   0.00000000e+00,   0.00000000e+00],\n",
       "         [  5.23542213e+00,   0.00000000e+00,   0.00000000e+00, ...,\n",
       "            0.00000000e+00,   0.00000000e+00,   5.31066132e+00],\n",
       "         ..., \n",
       "         [  3.64159203e+01,   0.00000000e+00,   0.00000000e+00, ...,\n",
       "            0.00000000e+00,   0.00000000e+00,   0.00000000e+00],\n",
       "         [  5.36256943e+01,   5.01633530e+01,   0.00000000e+00, ...,\n",
       "            0.00000000e+00,   0.00000000e+00,   0.00000000e+00],\n",
       "         [  3.79271851e+01,   3.98124466e+01,   0.00000000e+00, ...,\n",
       "            0.00000000e+00,   0.00000000e+00,   0.00000000e+00]],\n",
       "\n",
       "        [[  5.86057053e+01,   0.00000000e+00,   0.00000000e+00, ...,\n",
       "            0.00000000e+00,   0.00000000e+00,   9.37344513e+01],\n",
       "         [  7.12237396e+01,   0.00000000e+00,   0.00000000e+00, ...,\n",
       "            0.00000000e+00,   0.00000000e+00,   1.00101250e+02],\n",
       "         [  6.13171387e+01,   0.00000000e+00,   0.00000000e+00, ...,\n",
       "            0.00000000e+00,   0.00000000e+00,   1.58323746e+02],\n",
       "         ..., \n",
       "         [  1.32823929e+02,   0.00000000e+00,   0.00000000e+00, ...,\n",
       "            0.00000000e+00,   0.00000000e+00,   2.30708511e+02],\n",
       "         [  1.60603302e+02,   0.00000000e+00,   0.00000000e+00, ...,\n",
       "            0.00000000e+00,   0.00000000e+00,   1.47026276e+02],\n",
       "         [  8.38342285e+01,   0.00000000e+00,   0.00000000e+00, ...,\n",
       "            0.00000000e+00,   0.00000000e+00,   8.55134964e+01]],\n",
       "\n",
       "        [[  4.53073788e+00,   0.00000000e+00,   8.09612083e+00, ...,\n",
       "            0.00000000e+00,   0.00000000e+00,   3.74037933e+01],\n",
       "         [  0.00000000e+00,   0.00000000e+00,   0.00000000e+00, ...,\n",
       "            0.00000000e+00,   0.00000000e+00,   1.51296417e+02],\n",
       "         [  0.00000000e+00,   0.00000000e+00,   0.00000000e+00, ...,\n",
       "            0.00000000e+00,   0.00000000e+00,   3.91162903e+02],\n",
       "         ..., \n",
       "         [  0.00000000e+00,   0.00000000e+00,   0.00000000e+00, ...,\n",
       "            2.93052311e+01,   0.00000000e+00,   5.05179138e+02],\n",
       "         [  0.00000000e+00,   0.00000000e+00,   6.62024078e+01, ...,\n",
       "            3.77584610e+01,   0.00000000e+00,   2.99610779e+02],\n",
       "         [  4.00151978e+01,   0.00000000e+00,   7.72481003e+01, ...,\n",
       "            0.00000000e+00,   0.00000000e+00,   1.02256859e+02]]]], dtype=float32)"
      ]
     },
     "execution_count": 16,
     "metadata": {},
     "output_type": "execute_result"
    }
   ],
   "source": [
    "new_model.predict(generated_image)[-2]"
   ]
  },
  {
   "cell_type": "code",
   "execution_count": 17,
   "metadata": {},
   "outputs": [],
   "source": [
    "sgd = SGD(lr=0.5, decay=1e-6, momentum=0.99, nesterov=True)\n",
    "new_model.compile(loss=total_loss, optimizer=sgd)"
   ]
  },
  {
   "cell_type": "code",
   "execution_count": 18,
   "metadata": {
    "scrolled": true
   },
   "outputs": [
    {
     "data": {
      "text/plain": [
       "array([[[[  5.10645485e+01,   0.00000000e+00,   7.23399582e+01, ...,\n",
       "            4.46864243e+01,   0.00000000e+00,   0.00000000e+00],\n",
       "         [  2.00483532e+01,   0.00000000e+00,   0.00000000e+00, ...,\n",
       "            0.00000000e+00,   0.00000000e+00,   0.00000000e+00],\n",
       "         [  3.05583630e+01,   0.00000000e+00,   0.00000000e+00, ...,\n",
       "            0.00000000e+00,   0.00000000e+00,   0.00000000e+00],\n",
       "         ..., \n",
       "         [  0.00000000e+00,   0.00000000e+00,   0.00000000e+00, ...,\n",
       "            0.00000000e+00,   0.00000000e+00,   0.00000000e+00],\n",
       "         [  0.00000000e+00,   0.00000000e+00,   0.00000000e+00, ...,\n",
       "            0.00000000e+00,   0.00000000e+00,   0.00000000e+00],\n",
       "         [  0.00000000e+00,   0.00000000e+00,   0.00000000e+00, ...,\n",
       "            0.00000000e+00,   0.00000000e+00,   2.44372582e+00]],\n",
       "\n",
       "        [[  5.40156794e+00,   0.00000000e+00,   1.04163216e+02, ...,\n",
       "            6.66441584e+00,   0.00000000e+00,   0.00000000e+00],\n",
       "         [  0.00000000e+00,   0.00000000e+00,   0.00000000e+00, ...,\n",
       "            0.00000000e+00,   0.00000000e+00,   0.00000000e+00],\n",
       "         [  7.22296685e-02,   0.00000000e+00,   0.00000000e+00, ...,\n",
       "            0.00000000e+00,   0.00000000e+00,   0.00000000e+00],\n",
       "         ..., \n",
       "         [  0.00000000e+00,   0.00000000e+00,   0.00000000e+00, ...,\n",
       "            0.00000000e+00,   0.00000000e+00,   0.00000000e+00],\n",
       "         [  0.00000000e+00,   0.00000000e+00,   0.00000000e+00, ...,\n",
       "            0.00000000e+00,   0.00000000e+00,   0.00000000e+00],\n",
       "         [  0.00000000e+00,   0.00000000e+00,   0.00000000e+00, ...,\n",
       "            0.00000000e+00,   0.00000000e+00,   2.56960773e+01]],\n",
       "\n",
       "        [[  8.20573139e+00,   0.00000000e+00,   5.14867973e+01, ...,\n",
       "            6.95610046e+00,   0.00000000e+00,   0.00000000e+00],\n",
       "         [  0.00000000e+00,   0.00000000e+00,   0.00000000e+00, ...,\n",
       "            0.00000000e+00,   0.00000000e+00,   0.00000000e+00],\n",
       "         [  0.00000000e+00,   0.00000000e+00,   0.00000000e+00, ...,\n",
       "            0.00000000e+00,   0.00000000e+00,   0.00000000e+00],\n",
       "         ..., \n",
       "         [  0.00000000e+00,   0.00000000e+00,   0.00000000e+00, ...,\n",
       "            0.00000000e+00,   0.00000000e+00,   0.00000000e+00],\n",
       "         [  0.00000000e+00,   0.00000000e+00,   0.00000000e+00, ...,\n",
       "            0.00000000e+00,   0.00000000e+00,   0.00000000e+00],\n",
       "         [  0.00000000e+00,   0.00000000e+00,   0.00000000e+00, ...,\n",
       "            0.00000000e+00,   0.00000000e+00,   1.40571566e+01]],\n",
       "\n",
       "        ..., \n",
       "        [[  1.18105347e+02,   0.00000000e+00,   0.00000000e+00, ...,\n",
       "            8.09844375e-01,   0.00000000e+00,   0.00000000e+00],\n",
       "         [  1.17169983e+02,   0.00000000e+00,   0.00000000e+00, ...,\n",
       "            0.00000000e+00,   0.00000000e+00,   0.00000000e+00],\n",
       "         [  5.23542213e+00,   0.00000000e+00,   0.00000000e+00, ...,\n",
       "            0.00000000e+00,   0.00000000e+00,   5.31066132e+00],\n",
       "         ..., \n",
       "         [  3.64159203e+01,   0.00000000e+00,   0.00000000e+00, ...,\n",
       "            0.00000000e+00,   0.00000000e+00,   0.00000000e+00],\n",
       "         [  5.36256943e+01,   5.01633530e+01,   0.00000000e+00, ...,\n",
       "            0.00000000e+00,   0.00000000e+00,   0.00000000e+00],\n",
       "         [  3.79271851e+01,   3.98124466e+01,   0.00000000e+00, ...,\n",
       "            0.00000000e+00,   0.00000000e+00,   0.00000000e+00]],\n",
       "\n",
       "        [[  5.86057053e+01,   0.00000000e+00,   0.00000000e+00, ...,\n",
       "            0.00000000e+00,   0.00000000e+00,   9.37344513e+01],\n",
       "         [  7.12237396e+01,   0.00000000e+00,   0.00000000e+00, ...,\n",
       "            0.00000000e+00,   0.00000000e+00,   1.00101250e+02],\n",
       "         [  6.13171387e+01,   0.00000000e+00,   0.00000000e+00, ...,\n",
       "            0.00000000e+00,   0.00000000e+00,   1.58323746e+02],\n",
       "         ..., \n",
       "         [  1.32823929e+02,   0.00000000e+00,   0.00000000e+00, ...,\n",
       "            0.00000000e+00,   0.00000000e+00,   2.30708511e+02],\n",
       "         [  1.60603302e+02,   0.00000000e+00,   0.00000000e+00, ...,\n",
       "            0.00000000e+00,   0.00000000e+00,   1.47026276e+02],\n",
       "         [  8.38342285e+01,   0.00000000e+00,   0.00000000e+00, ...,\n",
       "            0.00000000e+00,   0.00000000e+00,   8.55134964e+01]],\n",
       "\n",
       "        [[  4.53073788e+00,   0.00000000e+00,   8.09612083e+00, ...,\n",
       "            0.00000000e+00,   0.00000000e+00,   3.74037933e+01],\n",
       "         [  0.00000000e+00,   0.00000000e+00,   0.00000000e+00, ...,\n",
       "            0.00000000e+00,   0.00000000e+00,   1.51296417e+02],\n",
       "         [  0.00000000e+00,   0.00000000e+00,   0.00000000e+00, ...,\n",
       "            0.00000000e+00,   0.00000000e+00,   3.91162903e+02],\n",
       "         ..., \n",
       "         [  0.00000000e+00,   0.00000000e+00,   0.00000000e+00, ...,\n",
       "            2.93052311e+01,   0.00000000e+00,   5.05179138e+02],\n",
       "         [  0.00000000e+00,   0.00000000e+00,   6.62024078e+01, ...,\n",
       "            3.77584610e+01,   0.00000000e+00,   2.99610779e+02],\n",
       "         [  4.00151978e+01,   0.00000000e+00,   7.72481003e+01, ...,\n",
       "            0.00000000e+00,   0.00000000e+00,   1.02256859e+02]]]], dtype=float32)"
      ]
     },
     "execution_count": 18,
     "metadata": {},
     "output_type": "execute_result"
    }
   ],
   "source": [
    "new_model.predict(generated_image)[-2]"
   ]
  },
  {
   "cell_type": "code",
   "execution_count": 18,
   "metadata": {},
   "outputs": [],
   "source": [
    "def save_image(path, image):\n",
    "    \n",
    "    # Un-normalize the image so that it looks good\n",
    "    image = image + CONFIG.MEANS\n",
    "    \n",
    "    # Clip and Save the image\n",
    "    image = np.clip(image[0], 0, 255).astype('uint8')\n",
    "    scipy.misc.imsave(path, image)"
   ]
  },
  {
   "cell_type": "code",
   "execution_count": 19,
   "metadata": {},
   "outputs": [
    {
     "name": "stderr",
     "output_type": "stream",
     "text": [
      "/Users/apple/anaconda3/envs/coreml/lib/python2.7/site-packages/ipykernel_launcher.py:8: DeprecationWarning: `imsave` is deprecated!\n",
      "`imsave` is deprecated in SciPy 1.0.0, and will be removed in 1.2.0.\n",
      "Use ``imageio.imwrite`` instead.\n",
      "  \n"
     ]
    }
   ],
   "source": [
    "# save last generated image\n",
    "save_image('output/generated_image_keras.jpg', generated_image)"
   ]
  },
  {
   "cell_type": "code",
   "execution_count": 20,
   "metadata": {},
   "outputs": [
    {
     "name": "stdout",
     "output_type": "stream",
     "text": [
      "_________________________________________________________________\n",
      "Layer (type)                 Output Shape              Param #   \n",
      "=================================================================\n",
      "input_1 (InputLayer)         (None, 300, 400, 3)       0         \n",
      "_________________________________________________________________\n",
      "block1_conv1 (Conv2D)        (None, 300, 400, 64)      1792      \n",
      "_________________________________________________________________\n",
      "block1_conv2 (Conv2D)        (None, 300, 400, 64)      36928     \n",
      "_________________________________________________________________\n",
      "block1_pool (MaxPooling2D)   (None, 150, 200, 64)      0         \n",
      "_________________________________________________________________\n",
      "block2_conv1 (Conv2D)        (None, 150, 200, 128)     73856     \n",
      "_________________________________________________________________\n",
      "block2_conv2 (Conv2D)        (None, 150, 200, 128)     147584    \n",
      "_________________________________________________________________\n",
      "block2_pool (MaxPooling2D)   (None, 75, 100, 128)      0         \n",
      "_________________________________________________________________\n",
      "block3_conv1 (Conv2D)        (None, 75, 100, 256)      295168    \n",
      "_________________________________________________________________\n",
      "block3_conv2 (Conv2D)        (None, 75, 100, 256)      590080    \n",
      "_________________________________________________________________\n",
      "block3_conv3 (Conv2D)        (None, 75, 100, 256)      590080    \n",
      "_________________________________________________________________\n",
      "block3_conv4 (Conv2D)        (None, 75, 100, 256)      590080    \n",
      "_________________________________________________________________\n",
      "block3_pool (MaxPooling2D)   (None, 37, 50, 256)       0         \n",
      "_________________________________________________________________\n",
      "block4_conv1 (Conv2D)        (None, 37, 50, 512)       1180160   \n",
      "_________________________________________________________________\n",
      "block4_conv2 (Conv2D)        (None, 37, 50, 512)       2359808   \n",
      "_________________________________________________________________\n",
      "block4_conv3 (Conv2D)        (None, 37, 50, 512)       2359808   \n",
      "_________________________________________________________________\n",
      "block4_conv4 (Conv2D)        (None, 37, 50, 512)       2359808   \n",
      "_________________________________________________________________\n",
      "block4_pool (MaxPooling2D)   (None, 18, 25, 512)       0         \n",
      "_________________________________________________________________\n",
      "block5_conv1 (Conv2D)        (None, 18, 25, 512)       2359808   \n",
      "=================================================================\n",
      "Total params: 12,944,960\n",
      "Trainable params: 12,944,960\n",
      "Non-trainable params: 0\n",
      "_________________________________________________________________\n"
     ]
    }
   ],
   "source": [
    "new_model.summary()"
   ]
  },
  {
   "cell_type": "code",
   "execution_count": null,
   "metadata": {},
   "outputs": [],
   "source": []
  },
  {
   "cell_type": "code",
   "execution_count": null,
   "metadata": {},
   "outputs": [],
   "source": []
  },
  {
   "cell_type": "code",
   "execution_count": null,
   "metadata": {},
   "outputs": [],
   "source": []
  },
  {
   "cell_type": "code",
   "execution_count": null,
   "metadata": {},
   "outputs": [],
   "source": []
  },
  {
   "cell_type": "code",
   "execution_count": null,
   "metadata": {},
   "outputs": [],
   "source": []
  },
  {
   "cell_type": "code",
   "execution_count": null,
   "metadata": {},
   "outputs": [],
   "source": []
  },
  {
   "cell_type": "code",
   "execution_count": null,
   "metadata": {},
   "outputs": [],
   "source": []
  },
  {
   "cell_type": "code",
   "execution_count": null,
   "metadata": {},
   "outputs": [],
   "source": []
  }
 ],
 "metadata": {
  "kernelspec": {
   "display_name": "Python 2",
   "language": "python",
   "name": "python2"
  },
  "language_info": {
   "codemirror_mode": {
    "name": "ipython",
    "version": 2
   },
   "file_extension": ".py",
   "mimetype": "text/x-python",
   "name": "python",
   "nbconvert_exporter": "python",
   "pygments_lexer": "ipython2",
   "version": "2.7.14"
  }
 },
 "nbformat": 4,
 "nbformat_minor": 2
}
