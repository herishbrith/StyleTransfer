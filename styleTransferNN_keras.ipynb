{
 "cells": [
  {
   "cell_type": "code",
   "execution_count": 2,
   "metadata": {},
   "outputs": [
    {
     "name": "stderr",
     "output_type": "stream",
     "text": [
      "Using TensorFlow backend.\n"
     ]
    }
   ],
   "source": [
    "from __future__ import print_function\n",
    "\n",
    "import numpy as np\n",
    "import scipy.misc\n",
    "import scipy.io\n",
    "import tensorflow as tf\n",
    "from PIL import Image\n",
    "\n",
    "from keras.layers import Input\n",
    "from keras.applications import vgg19\n",
    "\n",
    "import keras.backend as K\n",
    "\n",
    "import matplotlib.pyplot as plt\n",
    "from matplotlib.pyplot import imshow\n",
    "%matplotlib inline"
   ]
  },
  {
   "cell_type": "code",
   "execution_count": 3,
   "metadata": {},
   "outputs": [],
   "source": [
    "class CONFIG:\n",
    "    IMAGE_WIDTH = 400\n",
    "    IMAGE_HEIGHT = 300\n",
    "    COLOR_CHANNELS = 3\n",
    "    CONTENT_WEIGHT = 5\n",
    "    STYLE_WEIGHT = 100\n",
    "    TOTAL_VARIATION_WEIGHT = 1.\n",
    "    NOISE_RATIO = .6\n",
    "    MEANS = np.array([123.68, 116.779, 103.939]).reshape((1,1,1,3))"
   ]
  },
  {
   "cell_type": "code",
   "execution_count": 4,
   "metadata": {},
   "outputs": [],
   "source": [
    "STYLE_LAYERS = [\n",
    "    ('conv1_1', .5),\n",
    "#     ('conv1_2', .2),\n",
    "    ('conv2_1', .5),\n",
    "#     ('conv2_2', .2),\n",
    "    ('conv3_1', .5),\n",
    "#     ('conv3_2', 0.2),\n",
    "#     ('conv3_3', .2),\n",
    "#     ('conv3_4', 0.2),\n",
    "    ('conv4_1', .5),\n",
    "#     ('conv4_2', 0.2),\n",
    "#     ('conv4_3', 0.2),\n",
    "#     ('conv4_4', .2),\n",
    "    ('conv5_1', .5),\n",
    "#     ('conv5_2', 0.2),\n",
    "#     ('conv5_3', 0.2),\n",
    "#     ('conv5_4', .2)\n",
    "]"
   ]
  },
  {
   "cell_type": "code",
   "execution_count": 5,
   "metadata": {},
   "outputs": [],
   "source": [
    "def reshape_and_normalize_image(image_path):\n",
    "    \"\"\"\n",
    "    Reshape and normalize the input image (content or style)\n",
    "    \"\"\"\n",
    "    \n",
    "    image = Image.open(image_path)\n",
    "    image = image.resize((CONFIG.IMAGE_WIDTH, CONFIG.IMAGE_HEIGHT))\n",
    "    \n",
    "    image_array = np.asarray(image, dtype='float32')\n",
    "    image = np.expand_dims(image_array, axis=0)\n",
    "    \n",
    "    # Substract the mean to match the expected input of VGG16\n",
    "    image = image - CONFIG.MEANS\n",
    "    \n",
    "    return image"
   ]
  },
  {
   "cell_type": "code",
   "execution_count": 6,
   "metadata": {},
   "outputs": [],
   "source": [
    "def generate_noise_image(content_image, noise_ratio = CONFIG.NOISE_RATIO):\n",
    "    \"\"\"\n",
    "    Generates a noisy image by adding random noise to the content_image\n",
    "    \"\"\"\n",
    "    \n",
    "    # Generate a random noise_image\n",
    "    noise_image = np.random.uniform(-20, 20, (1, CONFIG.IMAGE_HEIGHT, CONFIG.IMAGE_WIDTH,\n",
    "                                              CONFIG.COLOR_CHANNELS)).astype('float32')\n",
    "    \n",
    "    # Set the input_image to be a weighted average of the content_image and a noise_image\n",
    "    input_image = noise_image * noise_ratio + content_image * (1 - noise_ratio)\n",
    "    \n",
    "    return input_image"
   ]
  },
  {
   "cell_type": "code",
   "execution_count": 7,
   "metadata": {},
   "outputs": [],
   "source": [
    "content_image_path = \"./images/louvre_small.jpg\"\n",
    "content_image = reshape_and_normalize_image(content_image_path)\n",
    "\n",
    "style_image_path = \"./images/monet.jpg\"\n",
    "style_image = reshape_and_normalize_image(style_image_path)\n",
    "\n",
    "generated_image = generate_noise_image(content_image)"
   ]
  },
  {
   "cell_type": "code",
   "execution_count": 8,
   "metadata": {},
   "outputs": [],
   "source": [
    "def compute_content_loss(content, generated):\n",
    "    m, n_H, n_W, n_C = generated.shape\n",
    "\n",
    "    content = np.reshape(content, [-1])\n",
    "    generated = np.reshape(generated, [-1])\n",
    "\n",
    "    return np.sum(np.square(content - generated)) / (4*n_H*n_W*n_C)"
   ]
  },
  {
   "cell_type": "code",
   "execution_count": 9,
   "metadata": {},
   "outputs": [],
   "source": [
    "def gram_matrix(x):\n",
    "    gram = np.dot(np.transpose(x), x)\n",
    "    return gram\n",
    "\n",
    "def style_layer_loss(style, generated):\n",
    "    m, n_H, n_W, n_C = generated.shape\n",
    "    \n",
    "    style = np.reshape(style, (n_H*n_W, n_C))\n",
    "    generated = np.reshape(generated, (n_H*n_W, n_C))\n",
    "    \n",
    "    S = gram_matrix(style)\n",
    "    G = gram_matrix(generated)\n",
    "\n",
    "    channels = n_C\n",
    "    size = n_H*n_W\n",
    "\n",
    "    return np.sum(np.square(S - G)) / (4. * (channels ** 2) * (size ** 2))"
   ]
  },
  {
   "cell_type": "code",
   "execution_count": 10,
   "metadata": {},
   "outputs": [],
   "source": [
    "def total_loss(sess, alpha=20, beta=40):\n",
    "\n",
    "    # Assign the input of the model to be the \"content\" image \n",
    "    sess.run(model[\"input\"].assign(content_image))\n",
    "\n",
    "    # Get content loss from output of block 4, layer 2\n",
    "    out = model[\"conv4_2\"]\n",
    "    content_features = sess.run(out)\n",
    "    generated_features = out\n",
    "    content_loss = compute_content_loss(content_features, generated_features)\n",
    "    \n",
    "    # loss for style image\n",
    "    style_loss = 0.\n",
    "    \n",
    "    # Assign the input of the model to be the \"style\" image \n",
    "    sess.run(model[\"input\"].assign(style_image))\n",
    "    \n",
    "    for layer_name, coeff in STYLE_LAYERS:\n",
    "        # Select the output tensor of the currently selected layer\n",
    "        out = model[layer_name]\n",
    "        style_features = sess.run(out)\n",
    "        generated_features = out\n",
    "        style_loss += coeff * style_layer_loss(style_features, generated_features)\n",
    "    \n",
    "    # Get total loss using alpha and beta\n",
    "    total_loss = (content_loss*alpha) + (style_loss*beta)\n",
    "    \n",
    "    return content_loss, style_loss, total_loss"
   ]
  },
  {
   "cell_type": "code",
   "execution_count": 11,
   "metadata": {},
   "outputs": [],
   "source": [
    "sess = tf.Session()\n",
    "K.set_session(sess)"
   ]
  },
  {
   "cell_type": "code",
   "execution_count": 14,
   "metadata": {},
   "outputs": [],
   "source": [
    "# Combined input for model\n",
    "input_tensor = K.concatenate([content_image,\n",
    "                          style_image,\n",
    "                          generated_image], axis=0)\n",
    "\n",
    "model = vgg19.VGG19(weights=None,\n",
    "                    input_tensor=input_tensor,\n",
    "                    include_top=False)\n",
    "model.load_weights(\"./vgg19_weights_tf_dim_ordering_tf_kernels_notop.h5\")"
   ]
  },
  {
   "cell_type": "code",
   "execution_count": 20,
   "metadata": {},
   "outputs": [],
   "source": [
    "c = sess.run(model.output[0])\n",
    "s = sess.run(model.output[1])"
   ]
  },
  {
   "cell_type": "code",
   "execution_count": 24,
   "metadata": {},
   "outputs": [
    {
     "data": {
      "text/plain": [
       "array([[[ True,  True,  True, ...,  True, False,  True],\n",
       "        [ True,  True,  True, ...,  True, False,  True],\n",
       "        [ True,  True,  True, ...,  True, False,  True],\n",
       "        ..., \n",
       "        [ True,  True,  True, ...,  True, False,  True],\n",
       "        [ True,  True,  True, ...,  True, False,  True],\n",
       "        [ True,  True,  True, ...,  True, False,  True]],\n",
       "\n",
       "       [[ True,  True,  True, ...,  True, False,  True],\n",
       "        [ True,  True, False, ...,  True, False,  True],\n",
       "        [ True,  True,  True, ...,  True, False,  True],\n",
       "        ..., \n",
       "        [ True,  True,  True, ...,  True, False,  True],\n",
       "        [ True,  True,  True, ...,  True, False,  True],\n",
       "        [ True,  True,  True, ...,  True, False,  True]],\n",
       "\n",
       "       [[ True,  True,  True, ...,  True, False,  True],\n",
       "        [ True,  True,  True, ...,  True,  True,  True],\n",
       "        [ True,  True,  True, ...,  True,  True,  True],\n",
       "        ..., \n",
       "        [ True,  True,  True, ...,  True,  True,  True],\n",
       "        [ True,  True,  True, ...,  True,  True,  True],\n",
       "        [ True,  True,  True, ...,  True,  True,  True]],\n",
       "\n",
       "       ..., \n",
       "       [[ True,  True,  True, ...,  True,  True,  True],\n",
       "        [ True,  True, False, ...,  True, False,  True],\n",
       "        [False,  True, False, ...,  True, False,  True],\n",
       "        ..., \n",
       "        [False,  True,  True, ...,  True,  True, False],\n",
       "        [ True,  True,  True, ...,  True,  True, False],\n",
       "        [ True,  True,  True, ...,  True, False,  True]],\n",
       "\n",
       "       [[ True,  True,  True, ...,  True, False,  True],\n",
       "        [ True,  True,  True, ...,  True,  True,  True],\n",
       "        [ True,  True,  True, ...,  True, False,  True],\n",
       "        ..., \n",
       "        [ True,  True,  True, ...,  True,  True, False],\n",
       "        [ True,  True,  True, ...,  True, False, False],\n",
       "        [ True,  True,  True, ...,  True, False, False]],\n",
       "\n",
       "       [[False,  True,  True, ...,  True, False,  True],\n",
       "        [ True,  True,  True, ...,  True, False,  True],\n",
       "        [ True,  True,  True, ...,  True,  True,  True],\n",
       "        ..., \n",
       "        [ True,  True,  True, ...,  True,  True,  True],\n",
       "        [ True,  True,  True, ...,  True, False,  True],\n",
       "        [ True,  True,  True, ...,  True,  True, False]]], dtype=bool)"
      ]
     },
     "execution_count": 24,
     "metadata": {},
     "output_type": "execute_result"
    }
   ],
   "source": [
    "c == s"
   ]
  },
  {
   "cell_type": "code",
   "execution_count": null,
   "metadata": {},
   "outputs": [],
   "source": []
  },
  {
   "cell_type": "code",
   "execution_count": null,
   "metadata": {},
   "outputs": [],
   "source": []
  },
  {
   "cell_type": "code",
   "execution_count": null,
   "metadata": {},
   "outputs": [],
   "source": []
  },
  {
   "cell_type": "code",
   "execution_count": null,
   "metadata": {},
   "outputs": [],
   "source": []
  },
  {
   "cell_type": "code",
   "execution_count": null,
   "metadata": {},
   "outputs": [],
   "source": []
  },
  {
   "cell_type": "code",
   "execution_count": null,
   "metadata": {},
   "outputs": [],
   "source": []
  },
  {
   "cell_type": "code",
   "execution_count": null,
   "metadata": {},
   "outputs": [],
   "source": []
  },
  {
   "cell_type": "code",
   "execution_count": null,
   "metadata": {},
   "outputs": [],
   "source": []
  },
  {
   "cell_type": "code",
   "execution_count": null,
   "metadata": {},
   "outputs": [],
   "source": []
  },
  {
   "cell_type": "code",
   "execution_count": null,
   "metadata": {},
   "outputs": [],
   "source": []
  },
  {
   "cell_type": "code",
   "execution_count": null,
   "metadata": {},
   "outputs": [],
   "source": []
  },
  {
   "cell_type": "code",
   "execution_count": null,
   "metadata": {},
   "outputs": [],
   "source": []
  }
 ],
 "metadata": {
  "kernelspec": {
   "display_name": "Python 2",
   "language": "python",
   "name": "python2"
  }
 },
 "nbformat": 4,
 "nbformat_minor": 2
}
