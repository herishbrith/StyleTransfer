{
 "cells": [
  {
   "cell_type": "code",
   "execution_count": 21,
   "metadata": {},
   "outputs": [],
   "source": [
    "from __future__ import print_function\n",
    "\n",
    "import numpy as np\n",
    "\n",
    "import scipy.misc\n",
    "import scipy.io\n",
    "\n",
    "import matplotlib.pyplot as plt\n",
    "from matplotlib.pyplot import imshow\n",
    "\n",
    "from keras.applications import vgg19\n",
    "from keras.models import load_model, Model, Sequential\n",
    "from keras.layers import Input, Conv2D, BatchNormalization, MaxPooling2D, Lambda, Flatten, Dense\n",
    "from keras.layers.advanced_activations import LeakyReLU\n",
    "from keras.layers.core import Reshape\n",
    "from keras.layers.merge import concatenate\n",
    "from keras import optimizers\n",
    "import tensorflow as tf\n",
    "\n",
    "# Set backend as tensorflow\n",
    "from keras import backend as K\n",
    "K.set_image_dim_ordering(\"tf\")\n",
    "\n",
    "from PIL import Image\n",
    "import random\n",
    "import os\n",
    "import h5py\n",
    "\n",
    "%matplotlib inline"
   ]
  },
  {
   "cell_type": "code",
   "execution_count": 22,
   "metadata": {},
   "outputs": [],
   "source": [
    "BASE_DIR = \"./ships-in-satellite-imagery/shipsnet/\"\n",
    "TRAIN_ROWS = .8\n",
    "IMAGE_HEIGHT = 80\n",
    "IMAGE_WIDTH = 80\n",
    "COLOR_CHANNELS = 3"
   ]
  },
  {
   "cell_type": "code",
   "execution_count": 23,
   "metadata": {},
   "outputs": [],
   "source": [
    "def readFromImages():\n",
    "    file_list = os.listdir(BASE_DIR)\n",
    "    total_images = len(file_list)\n",
    "    file_list = random.sample(file_list, total_images)\n",
    "\n",
    "    x_data = np.zeros((total_images, IMAGE_HEIGHT, IMAGE_WIDTH, COLOR_CHANNELS))\n",
    "    y_data = np.zeros((total_images, 1))\n",
    "\n",
    "    for f in range(total_images):\n",
    "        filename = file_list[f]\n",
    "        x_data[f] = plt.imread(BASE_DIR + filename, \"r\")\n",
    "        y_data[f] = int(filename.split(\"_\", 1)[0])\n",
    "\n",
    "    h5File = h5py.File(\"data.h5\", \"w\")\n",
    "    h5File.create_dataset(\"x_data\", data=x_data)\n",
    "    h5File.create_dataset(\"y_data\", data=y_data)\n",
    "    h5File.close()\n",
    "    \n",
    "    return x_data, y_data"
   ]
  },
  {
   "cell_type": "code",
   "execution_count": 24,
   "metadata": {},
   "outputs": [],
   "source": [
    "def readFromFile():\n",
    "    h5File = h5py.File(\"data.h5\")\n",
    "    x_data = h5File[\"x_data\"][:]\n",
    "    y_data = h5File[\"y_data\"][:]\n",
    "            \n",
    "    return x_data, y_data"
   ]
  },
  {
   "cell_type": "code",
   "execution_count": 25,
   "metadata": {},
   "outputs": [],
   "source": [
    "def add_shortcut(inp, shortcut):\n",
    "    \n",
    "    # channels for shortcut\n",
    "    nb_channels = int(shortcut.get_shape()[-1])\n",
    "    \n",
    "    # shortcut revived\n",
    "    shortcut = Conv2D(nb_channels, (3, 3), padding=\"same\")(shortcut)\n",
    "    shortcut = BatchNormalization()(shortcut)\n",
    "    return concatenate([shortcut, inp])"
   ]
  },
  {
   "cell_type": "code",
   "execution_count": 26,
   "metadata": {},
   "outputs": [],
   "source": [
    "input_image = Input(shape=(80, 80, 3), name=\"input_1\")\n",
    "\n",
    "x = Conv2D(32, (3, 3), name=\"conv_1\", padding=\"same\")(input_image)\n",
    "x = BatchNormalization(name='norm_1')(x)\n",
    "x = LeakyReLU(alpha=0.9, name=\"leaky_relu_1\")(x)\n",
    "x = MaxPooling2D(pool_size=(2, 2), name=\"max_pool_1\")(x)\n",
    "\n",
    "x = Conv2D(64, (3, 3), name=\"conv_2\", padding=\"same\")(x)\n",
    "x = BatchNormalization(name='norm_2')(x)\n",
    "x = LeakyReLU(alpha=0.9, name=\"leaky_relu_2\")(x)\n",
    "\n",
    "x = Conv2D(64, (3, 3), name=\"conv_3\", padding=\"same\")(x)\n",
    "x = BatchNormalization(name='norm_3')(x)\n",
    "x = LeakyReLU(alpha=0.9, name=\"leaky_relu_3\")(x)\n",
    "x = MaxPooling2D(pool_size=(2, 2), name=\"max_pool_2\")(x)\n",
    "\n",
    "x = Conv2D(128, (3, 3), name=\"conv_4\", padding=\"same\")(x)\n",
    "x = BatchNormalization(name='norm_4')(x)\n",
    "x = LeakyReLU(alpha=0.9, name=\"leaky_relu_4\")(x)\n",
    "x = MaxPooling2D(pool_size=(2, 2), name=\"max_pool_3\")(x)\n",
    "\n",
    "# shortcut\n",
    "shortcut = x\n",
    "\n",
    "x = Conv2D(64, (3, 3), name=\"conv_5\", padding=\"same\")(x)\n",
    "x = BatchNormalization(name='norm_5')(x)\n",
    "x = LeakyReLU(alpha=0.1, name=\"leaky_relu_5\")(x)\n",
    "# x = MaxPooling2D(pool_size=(2, 2), name=\"max_pool_4\")(x)\n",
    "\n",
    "# add shortcut\n",
    "x = add_shortcut(x, shortcut)\n",
    "\n",
    "x = Conv2D(32, (3, 3), name=\"conv_6\", padding=\"same\")(x)\n",
    "x = BatchNormalization(name='norm_6')(x)\n",
    "x = LeakyReLU(alpha=0.1, name=\"leaky_relu_6\")(x)\n",
    "x = MaxPooling2D(pool_size=(2, 2), name=\"max_pool_5\")(x)\n",
    "\n",
    "x = Conv2D(16, (3, 3), name=\"conv_7\", padding=\"same\")(x)\n",
    "x = BatchNormalization(name='norm_7')(x)\n",
    "x = LeakyReLU(alpha=0.1, name=\"leaky_relu_7\")(x)\n",
    "x = MaxPooling2D(pool_size=(2, 2), name=\"max_pool_6\")(x)\n",
    "\n",
    "x = Conv2D(8, (3, 3), name=\"conv_8\", padding=\"same\")(x)\n",
    "x = BatchNormalization(name='norm_8')(x)\n",
    "x = LeakyReLU(alpha=0.1, name=\"leaky_relu_8\")(x)\n",
    "x = MaxPooling2D(pool_size=(2, 2), name=\"max_pool_7\")(x)\n",
    "\n",
    "x = Conv2D(4, (3, 3), name=\"conv_9\", padding=\"same\")(x)\n",
    "x = BatchNormalization(name='norm_9')(x)\n",
    "x = LeakyReLU(alpha=0.1, name=\"leaky_relu_9\")(x)\n",
    "# x = MaxPooling2D(pool_size=(2, 2), name=\"max_pool_8\")(x)\n",
    "\n",
    "x = Flatten(name=\"flatten_1\")(x)\n",
    "x = Dense(1, name=\"dense_1\")(x)\n",
    "\n",
    "model = Model(inputs=input_image, outputs=x)\n",
    "\n",
    "# model.summary()"
   ]
  },
  {
   "cell_type": "code",
   "execution_count": 27,
   "metadata": {},
   "outputs": [],
   "source": [
    "# For a binary classification problem\n",
    "adam_optimizer = optimizers.Adam(lr=0.002, beta_1=0.905, beta_2=0.995, epsilon=1e-08, decay=0.001)\n",
    "\n",
    "model.compile(optimizer=adam_optimizer,\n",
    "              loss='mean_squared_logarithmic_error',\n",
    "              metrics=['accuracy'])"
   ]
  },
  {
   "cell_type": "code",
   "execution_count": 28,
   "metadata": {},
   "outputs": [],
   "source": [
    "x_data, y_data = readFromFile()\n",
    "total_images = x_data.shape[0]"
   ]
  },
  {
   "cell_type": "code",
   "execution_count": 30,
   "metadata": {},
   "outputs": [
    {
     "name": "stdout",
     "output_type": "stream",
     "text": [
      "Epoch 1/1\n",
      "2240/2240 [==============================] - 194s 86ms/step - loss: 0.0549 - acc: 0.8496\n",
      "Epoch 1/2\n",
      "2240/2240 [==============================] - 178s 80ms/step - loss: 0.0209 - acc: 0.9321\n",
      "Epoch 2/2\n",
      "2240/2240 [==============================] - 197s 88ms/step - loss: 0.0149 - acc: 0.9585\n",
      "Epoch 1/3\n",
      "2240/2240 [==============================] - 218s 97ms/step - loss: 0.0128 - acc: 0.9647\n",
      "Epoch 2/3\n",
      "2240/2240 [==============================] - 219s 98ms/step - loss: 0.0125 - acc: 0.9594\n",
      "Epoch 3/3\n",
      "2240/2240 [==============================] - 236s 106ms/step - loss: 0.0095 - acc: 0.9732\n"
     ]
    }
   ],
   "source": [
    "# Train the model, iterating on the data in batches of 32 samples\n",
    "train_rows = int(total_images*TRAIN_ROWS)\n",
    "\n",
    "num_of_iters = 4\n",
    "\n",
    "for i in range(num_of_iters):\n",
    "    randomized_image_indices = random.sample(range(total_images), total_images)\n",
    "    randomised_train_rows = randomized_image_indices[:train_rows]\n",
    "    \n",
    "    x_train = x_data[randomised_train_rows,:,:,:]\n",
    "    y_train = y_data[randomised_train_rows,:]\n",
    "\n",
    "    model.fit(x_train, y_train, epochs=i, batch_size=32)"
   ]
  },
  {
   "cell_type": "code",
   "execution_count": 31,
   "metadata": {},
   "outputs": [
    {
     "name": "stdout",
     "output_type": "stream",
     "text": [
      "560/560 [==============================] - 19s 34ms/step\n"
     ]
    },
    {
     "data": {
      "text/plain": [
       "[0.0079736878895866024, 0.97499999999999998]"
      ]
     },
     "execution_count": 31,
     "metadata": {},
     "output_type": "execute_result"
    }
   ],
   "source": [
    "x_test = x_data[train_rows:,:,:,:]\n",
    "y_test = y_data[train_rows:,:]\n",
    "\n",
    "model.evaluate(x_test, y_test)"
   ]
  },
  {
   "cell_type": "code",
   "execution_count": 32,
   "metadata": {},
   "outputs": [],
   "source": [
    "model.save(\"shipRecognitionModel.h5\")"
   ]
  },
  {
   "cell_type": "code",
   "execution_count": 32,
   "metadata": {},
   "outputs": [],
   "source": [
    "# test_model = load_model(\"shipRecognitionModel.h5\")"
   ]
  },
  {
   "cell_type": "code",
   "execution_count": 33,
   "metadata": {},
   "outputs": [
    {
     "name": "stdout",
     "output_type": "stream",
     "text": [
      "560/560 [==============================] - 19s 33ms/step\n"
     ]
    },
    {
     "data": {
      "text/plain": [
       "[0.0099144536103787165, 0.97857142857142854]"
      ]
     },
     "execution_count": 33,
     "metadata": {},
     "output_type": "execute_result"
    }
   ],
   "source": [
    "# test_model.evaluate(x_test, y_test)"
   ]
  },
  {
   "cell_type": "code",
   "execution_count": null,
   "metadata": {},
   "outputs": [],
   "source": []
  },
  {
   "cell_type": "code",
   "execution_count": null,
   "metadata": {},
   "outputs": [],
   "source": []
  },
  {
   "cell_type": "code",
   "execution_count": null,
   "metadata": {},
   "outputs": [],
   "source": []
  },
  {
   "cell_type": "code",
   "execution_count": null,
   "metadata": {},
   "outputs": [],
   "source": []
  },
  {
   "cell_type": "code",
   "execution_count": null,
   "metadata": {},
   "outputs": [],
   "source": []
  },
  {
   "cell_type": "code",
   "execution_count": null,
   "metadata": {},
   "outputs": [],
   "source": []
  }
 ],
 "metadata": {
  "kernelspec": {
   "display_name": "Python 2",
   "language": "python",
   "name": "python2"
  },
  "language_info": {
   "codemirror_mode": {
    "name": "ipython",
    "version": 2
   },
   "file_extension": ".py",
   "mimetype": "text/x-python",
   "name": "python",
   "nbconvert_exporter": "python",
   "pygments_lexer": "ipython2",
   "version": "2.7.14"
  }
 },
 "nbformat": 4,
 "nbformat_minor": 2
}
