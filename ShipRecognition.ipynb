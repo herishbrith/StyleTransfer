{
 "cells": [
  {
   "cell_type": "code",
   "execution_count": 12,
   "metadata": {},
   "outputs": [],
   "source": [
    "from __future__ import print_function\n",
    "\n",
    "import numpy as np\n",
    "\n",
    "import scipy.misc\n",
    "import scipy.io\n",
    "\n",
    "import matplotlib.pyplot as plt\n",
    "from matplotlib.pyplot import imshow\n",
    "\n",
    "from keras.applications import vgg19\n",
    "from keras.models import load_model, Model, Sequential\n",
    "from keras.layers import Input, Conv2D, BatchNormalization, MaxPooling2D, Lambda, Flatten, Dense\n",
    "from keras.layers.advanced_activations import LeakyReLU\n",
    "from keras.layers.core import Reshape\n",
    "from keras.layers.merge import concatenate\n",
    "from keras import optimizers\n",
    "import tensorflow as tf\n",
    "\n",
    "# Set backend as tensorflow\n",
    "from keras import backend as K\n",
    "K.set_image_dim_ordering(\"tf\")\n",
    "\n",
    "from PIL import Image\n",
    "import random\n",
    "import os\n",
    "import h5py\n",
    "\n",
    "%matplotlib inline"
   ]
  },
  {
   "cell_type": "code",
   "execution_count": 13,
   "metadata": {},
   "outputs": [],
   "source": [
    "BASE_DIR = \"./ships-in-satellite-imagery/shipsnet/\"\n",
    "TRAIN_ROWS = .8\n",
    "IMAGE_HEIGHT = 80\n",
    "IMAGE_WIDTH = 80\n",
    "COLOR_CHANNELS = 3"
   ]
  },
  {
   "cell_type": "code",
   "execution_count": 14,
   "metadata": {},
   "outputs": [],
   "source": [
    "def readFromImages():\n",
    "    file_list = os.listdir(BASE_DIR)\n",
    "    total_images = len(file_list)\n",
    "    file_list = random.sample(file_list, total_images)\n",
    "\n",
    "    x_data = np.zeros((total_images, IMAGE_HEIGHT, IMAGE_WIDTH, COLOR_CHANNELS))\n",
    "    y_data = np.zeros((total_images, 1))\n",
    "\n",
    "    for f in range(total_images):\n",
    "        filename = file_list[f]\n",
    "        x_data[f] = plt.imread(BASE_DIR + filename, \"r\")\n",
    "        y_data[f] = int(filename.split(\"_\", 1)[0])\n",
    "\n",
    "    h5File = h5py.File(\"data.h5\", \"w\")\n",
    "    h5File.create_dataset(\"x_data\", data=x_data)\n",
    "    h5File.create_dataset(\"y_data\", data=y_data)\n",
    "    h5File.close()\n",
    "    \n",
    "    return x_data, y_data"
   ]
  },
  {
   "cell_type": "code",
   "execution_count": 15,
   "metadata": {},
   "outputs": [],
   "source": [
    "def readFromFile():\n",
    "    h5File = h5py.File(\"data.h5\")\n",
    "    x_data = h5File[\"x_data\"][:]\n",
    "    y_data = h5File[\"y_data\"][:]\n",
    "            \n",
    "    return x_data, y_data"
   ]
  },
  {
   "cell_type": "code",
   "execution_count": 16,
   "metadata": {},
   "outputs": [],
   "source": [
    "x_data, y_data = readFromFile()\n",
    "total_images = x_data.shape[0]\n",
    "\n",
    "train_rows = int(total_images * TRAIN_ROWS)\n",
    "\n",
    "x_train = x_data[:train_rows,:,:,:]\n",
    "y_train = y_data[:train_rows,:]\n",
    "x_test = x_data[train_rows:,:,:,:]\n",
    "y_test = y_data[train_rows:,:]"
   ]
  },
  {
   "cell_type": "code",
   "execution_count": 17,
   "metadata": {},
   "outputs": [],
   "source": [
    "def add_shortcut(inp, shortcut):\n",
    "    \n",
    "    # channels for shortcut\n",
    "    nb_channels = int(shortcut.get_shape()[-1])\n",
    "    \n",
    "    # shortcut revived\n",
    "    shortcut = Conv2D(nb_channels, (3, 3), padding=\"same\")(shortcut)\n",
    "    shortcut = BatchNormalization()(shortcut)\n",
    "    return concatenate([shortcut, inp])"
   ]
  },
  {
   "cell_type": "code",
   "execution_count": 21,
   "metadata": {},
   "outputs": [
    {
     "name": "stdout",
     "output_type": "stream",
     "text": [
      "__________________________________________________________________________________________________\n",
      "Layer (type)                    Output Shape         Param #     Connected to                     \n",
      "==================================================================================================\n",
      "input_1 (InputLayer)            (None, 80, 80, 3)    0                                            \n",
      "__________________________________________________________________________________________________\n",
      "conv_1 (Conv2D)                 (None, 80, 80, 32)   896         input_1[0][0]                    \n",
      "__________________________________________________________________________________________________\n",
      "norm_1 (BatchNormalization)     (None, 80, 80, 32)   128         conv_1[0][0]                     \n",
      "__________________________________________________________________________________________________\n",
      "leaky_relu_1 (LeakyReLU)        (None, 80, 80, 32)   0           norm_1[0][0]                     \n",
      "__________________________________________________________________________________________________\n",
      "max_pool_1 (MaxPooling2D)       (None, 40, 40, 32)   0           leaky_relu_1[0][0]               \n",
      "__________________________________________________________________________________________________\n",
      "conv_2 (Conv2D)                 (None, 40, 40, 64)   18496       max_pool_1[0][0]                 \n",
      "__________________________________________________________________________________________________\n",
      "norm_2 (BatchNormalization)     (None, 40, 40, 64)   256         conv_2[0][0]                     \n",
      "__________________________________________________________________________________________________\n",
      "leaky_relu_2 (LeakyReLU)        (None, 40, 40, 64)   0           norm_2[0][0]                     \n",
      "__________________________________________________________________________________________________\n",
      "conv_3 (Conv2D)                 (None, 40, 40, 64)   36928       leaky_relu_2[0][0]               \n",
      "__________________________________________________________________________________________________\n",
      "norm_3 (BatchNormalization)     (None, 40, 40, 64)   256         conv_3[0][0]                     \n",
      "__________________________________________________________________________________________________\n",
      "leaky_relu_3 (LeakyReLU)        (None, 40, 40, 64)   0           norm_3[0][0]                     \n",
      "__________________________________________________________________________________________________\n",
      "max_pool_2 (MaxPooling2D)       (None, 20, 20, 64)   0           leaky_relu_3[0][0]               \n",
      "__________________________________________________________________________________________________\n",
      "conv_4 (Conv2D)                 (None, 20, 20, 128)  73856       max_pool_2[0][0]                 \n",
      "__________________________________________________________________________________________________\n",
      "norm_4 (BatchNormalization)     (None, 20, 20, 128)  512         conv_4[0][0]                     \n",
      "__________________________________________________________________________________________________\n",
      "leaky_relu_4 (LeakyReLU)        (None, 20, 20, 128)  0           norm_4[0][0]                     \n",
      "__________________________________________________________________________________________________\n",
      "max_pool_3 (MaxPooling2D)       (None, 10, 10, 128)  0           leaky_relu_4[0][0]               \n",
      "__________________________________________________________________________________________________\n",
      "conv_5 (Conv2D)                 (None, 10, 10, 64)   73792       max_pool_3[0][0]                 \n",
      "__________________________________________________________________________________________________\n",
      "conv2d_6 (Conv2D)               (None, 10, 10, 128)  147584      max_pool_3[0][0]                 \n",
      "__________________________________________________________________________________________________\n",
      "norm_5 (BatchNormalization)     (None, 10, 10, 64)   256         conv_5[0][0]                     \n",
      "__________________________________________________________________________________________________\n",
      "batch_normalization_6 (BatchNor (None, 10, 10, 128)  512         conv2d_6[0][0]                   \n",
      "__________________________________________________________________________________________________\n",
      "leaky_relu_5 (LeakyReLU)        (None, 10, 10, 64)   0           norm_5[0][0]                     \n",
      "__________________________________________________________________________________________________\n",
      "concatenate_6 (Concatenate)     (None, 10, 10, 192)  0           batch_normalization_6[0][0]      \n",
      "                                                                 leaky_relu_5[0][0]               \n",
      "__________________________________________________________________________________________________\n",
      "conv_6 (Conv2D)                 (None, 10, 10, 32)   55328       concatenate_6[0][0]              \n",
      "__________________________________________________________________________________________________\n",
      "norm_6 (BatchNormalization)     (None, 10, 10, 32)   128         conv_6[0][0]                     \n",
      "__________________________________________________________________________________________________\n",
      "leaky_relu_6 (LeakyReLU)        (None, 10, 10, 32)   0           norm_6[0][0]                     \n",
      "__________________________________________________________________________________________________\n",
      "max_pool_5 (MaxPooling2D)       (None, 5, 5, 32)     0           leaky_relu_6[0][0]               \n",
      "__________________________________________________________________________________________________\n",
      "conv_7 (Conv2D)                 (None, 5, 5, 16)     4624        max_pool_5[0][0]                 \n",
      "__________________________________________________________________________________________________\n",
      "norm_7 (BatchNormalization)     (None, 5, 5, 16)     64          conv_7[0][0]                     \n",
      "__________________________________________________________________________________________________\n",
      "leaky_relu_7 (LeakyReLU)        (None, 5, 5, 16)     0           norm_7[0][0]                     \n",
      "__________________________________________________________________________________________________\n",
      "max_pool_6 (MaxPooling2D)       (None, 2, 2, 16)     0           leaky_relu_7[0][0]               \n",
      "__________________________________________________________________________________________________\n",
      "conv_8 (Conv2D)                 (None, 2, 2, 8)      1160        max_pool_6[0][0]                 \n",
      "__________________________________________________________________________________________________\n",
      "norm_8 (BatchNormalization)     (None, 2, 2, 8)      32          conv_8[0][0]                     \n",
      "__________________________________________________________________________________________________\n",
      "leaky_relu_8 (LeakyReLU)        (None, 2, 2, 8)      0           norm_8[0][0]                     \n",
      "__________________________________________________________________________________________________\n",
      "max_pool_7 (MaxPooling2D)       (None, 1, 1, 8)      0           leaky_relu_8[0][0]               \n",
      "__________________________________________________________________________________________________\n",
      "conv_9 (Conv2D)                 (None, 1, 1, 4)      292         max_pool_7[0][0]                 \n",
      "__________________________________________________________________________________________________\n",
      "norm_9 (BatchNormalization)     (None, 1, 1, 4)      16          conv_9[0][0]                     \n",
      "__________________________________________________________________________________________________\n",
      "leaky_relu_9 (LeakyReLU)        (None, 1, 1, 4)      0           norm_9[0][0]                     \n",
      "__________________________________________________________________________________________________\n",
      "flatten_1 (Flatten)             (None, 4)            0           leaky_relu_9[0][0]               \n",
      "__________________________________________________________________________________________________\n",
      "dense_1 (Dense)                 (None, 1)            5           flatten_1[0][0]                  \n",
      "==================================================================================================\n",
      "Total params: 415,121\n",
      "Trainable params: 414,041\n",
      "Non-trainable params: 1,080\n",
      "__________________________________________________________________________________________________\n"
     ]
    }
   ],
   "source": [
    "input_image = Input(shape=(80, 80, 3), name=\"input_1\")\n",
    "\n",
    "x = Conv2D(32, (3, 3), name=\"conv_1\", padding=\"same\")(input_image)\n",
    "x = BatchNormalization(name='norm_1')(x)\n",
    "x = LeakyReLU(alpha=0.9, name=\"leaky_relu_1\")(x)\n",
    "x = MaxPooling2D(pool_size=(2, 2), name=\"max_pool_1\")(x)\n",
    "\n",
    "x = Conv2D(64, (3, 3), name=\"conv_2\", padding=\"same\")(x)\n",
    "x = BatchNormalization(name='norm_2')(x)\n",
    "x = LeakyReLU(alpha=0.9, name=\"leaky_relu_2\")(x)\n",
    "\n",
    "x = Conv2D(64, (3, 3), name=\"conv_3\", padding=\"same\")(x)\n",
    "x = BatchNormalization(name='norm_3')(x)\n",
    "x = LeakyReLU(alpha=0.9, name=\"leaky_relu_3\")(x)\n",
    "x = MaxPooling2D(pool_size=(2, 2), name=\"max_pool_2\")(x)\n",
    "\n",
    "x = Conv2D(128, (3, 3), name=\"conv_4\", padding=\"same\")(x)\n",
    "x = BatchNormalization(name='norm_4')(x)\n",
    "x = LeakyReLU(alpha=0.9, name=\"leaky_relu_4\")(x)\n",
    "x = MaxPooling2D(pool_size=(2, 2), name=\"max_pool_3\")(x)\n",
    "\n",
    "# shortcut\n",
    "shortcut = x\n",
    "\n",
    "x = Conv2D(64, (3, 3), name=\"conv_5\", padding=\"same\")(x)\n",
    "x = BatchNormalization(name='norm_5')(x)\n",
    "x = LeakyReLU(alpha=0.1, name=\"leaky_relu_5\")(x)\n",
    "# x = MaxPooling2D(pool_size=(2, 2), name=\"max_pool_4\")(x)\n",
    "\n",
    "# add shortcut\n",
    "x = add_shortcut(x, shortcut)\n",
    "\n",
    "x = Conv2D(32, (3, 3), name=\"conv_6\", padding=\"same\")(x)\n",
    "x = BatchNormalization(name='norm_6')(x)\n",
    "x = LeakyReLU(alpha=0.1, name=\"leaky_relu_6\")(x)\n",
    "x = MaxPooling2D(pool_size=(2, 2), name=\"max_pool_5\")(x)\n",
    "\n",
    "x = Conv2D(16, (3, 3), name=\"conv_7\", padding=\"same\")(x)\n",
    "x = BatchNormalization(name='norm_7')(x)\n",
    "x = LeakyReLU(alpha=0.1, name=\"leaky_relu_7\")(x)\n",
    "x = MaxPooling2D(pool_size=(2, 2), name=\"max_pool_6\")(x)\n",
    "\n",
    "x = Conv2D(8, (3, 3), name=\"conv_8\", padding=\"same\")(x)\n",
    "x = BatchNormalization(name='norm_8')(x)\n",
    "x = LeakyReLU(alpha=0.1, name=\"leaky_relu_8\")(x)\n",
    "x = MaxPooling2D(pool_size=(2, 2), name=\"max_pool_7\")(x)\n",
    "\n",
    "x = Conv2D(4, (3, 3), name=\"conv_9\", padding=\"same\")(x)\n",
    "x = BatchNormalization(name='norm_9')(x)\n",
    "x = LeakyReLU(alpha=0.1, name=\"leaky_relu_9\")(x)\n",
    "# x = MaxPooling2D(pool_size=(2, 2), name=\"max_pool_8\")(x)\n",
    "\n",
    "x = Flatten(name=\"flatten_1\")(x)\n",
    "x = Dense(1, name=\"dense_1\")(x)\n",
    "\n",
    "model = Model(inputs=input_image, outputs=x)\n",
    "\n",
    "model.summary()"
   ]
  },
  {
   "cell_type": "code",
   "execution_count": 28,
   "metadata": {},
   "outputs": [],
   "source": [
    "# For a binary classification problem\n",
    "adam_optimizer = optimizers.Adam(lr=0.002, beta_1=0.905, beta_2=0.995, epsilon=1e-08, decay=0.001)\n",
    "\n",
    "model.compile(optimizer=adam_optimizer,\n",
    "              loss='mean_squared_logarithmic_error',\n",
    "              metrics=['accuracy'])"
   ]
  },
  {
   "cell_type": "code",
   "execution_count": 29,
   "metadata": {},
   "outputs": [
    {
     "name": "stdout",
     "output_type": "stream",
     "text": [
      "Epoch 1/4\n",
      "2240/2240 [==============================] - 190s 85ms/step - loss: 0.0214 - acc: 0.9446\n",
      "Epoch 2/4\n",
      "2240/2240 [==============================] - 183s 82ms/step - loss: 0.0133 - acc: 0.9683\n",
      "Epoch 3/4\n",
      "2240/2240 [==============================] - 182s 81ms/step - loss: 0.0117 - acc: 0.9607\n",
      "Epoch 4/4\n",
      "2240/2240 [==============================] - 185s 83ms/step - loss: 0.0113 - acc: 0.9647\n"
     ]
    },
    {
     "data": {
      "text/plain": [
       "<keras.callbacks.History at 0x11c367ad0>"
      ]
     },
     "execution_count": 29,
     "metadata": {},
     "output_type": "execute_result"
    }
   ],
   "source": [
    "# Train the model, iterating on the data in batches of 32 samples\n",
    "model.fit(x_train, y_train, epochs=4, batch_size=32)"
   ]
  },
  {
   "cell_type": "code",
   "execution_count": 30,
   "metadata": {},
   "outputs": [
    {
     "name": "stdout",
     "output_type": "stream",
     "text": [
      "560/560 [==============================] - 19s 34ms/step\n"
     ]
    },
    {
     "data": {
      "text/plain": [
       "[0.0099144536103787165, 0.97857142857142854]"
      ]
     },
     "execution_count": 30,
     "metadata": {},
     "output_type": "execute_result"
    }
   ],
   "source": [
    "model.evaluate(x_test, y_test)"
   ]
  },
  {
   "cell_type": "code",
   "execution_count": 31,
   "metadata": {},
   "outputs": [],
   "source": [
    "model.save(\"shipRecognitionModel.h5\")"
   ]
  },
  {
   "cell_type": "code",
   "execution_count": 32,
   "metadata": {},
   "outputs": [],
   "source": [
    "test_model = load_model(\"shipRecognitionModel.h5\")"
   ]
  },
  {
   "cell_type": "code",
   "execution_count": 33,
   "metadata": {},
   "outputs": [
    {
     "name": "stdout",
     "output_type": "stream",
     "text": [
      "560/560 [==============================] - 19s 33ms/step\n"
     ]
    },
    {
     "data": {
      "text/plain": [
       "[0.0099144536103787165, 0.97857142857142854]"
      ]
     },
     "execution_count": 33,
     "metadata": {},
     "output_type": "execute_result"
    }
   ],
   "source": [
    "test_model.evaluate(x_test, y_test)"
   ]
  },
  {
   "cell_type": "code",
   "execution_count": null,
   "metadata": {},
   "outputs": [],
   "source": []
  },
  {
   "cell_type": "code",
   "execution_count": null,
   "metadata": {},
   "outputs": [],
   "source": []
  },
  {
   "cell_type": "code",
   "execution_count": null,
   "metadata": {},
   "outputs": [],
   "source": []
  },
  {
   "cell_type": "code",
   "execution_count": null,
   "metadata": {},
   "outputs": [],
   "source": []
  },
  {
   "cell_type": "code",
   "execution_count": null,
   "metadata": {},
   "outputs": [],
   "source": []
  },
  {
   "cell_type": "code",
   "execution_count": null,
   "metadata": {},
   "outputs": [],
   "source": []
  }
 ],
 "metadata": {
  "kernelspec": {
   "display_name": "Python 2",
   "language": "python",
   "name": "python2"
  },
  "language_info": {
   "codemirror_mode": {
    "name": "ipython",
    "version": 2
   },
   "file_extension": ".py",
   "mimetype": "text/x-python",
   "name": "python",
   "nbconvert_exporter": "python",
   "pygments_lexer": "ipython2",
   "version": "2.7.14"
  }
 },
 "nbformat": 4,
 "nbformat_minor": 2
}
