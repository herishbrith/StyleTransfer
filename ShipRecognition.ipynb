{
 "cells": [
  {
   "cell_type": "code",
   "execution_count": 1,
   "metadata": {},
   "outputs": [
    {
     "name": "stderr",
     "output_type": "stream",
     "text": [
      "Using TensorFlow backend.\n"
     ]
    }
   ],
   "source": [
    "from __future__ import print_function\n",
    "\n",
    "import numpy as np\n",
    "\n",
    "import scipy.misc\n",
    "import scipy.io\n",
    "\n",
    "import matplotlib.pyplot as plt\n",
    "from matplotlib.pyplot import imshow\n",
    "\n",
    "from keras.applications import vgg19\n",
    "from keras.models import load_model, Model, Sequential\n",
    "from keras.layers import Input, Conv2D, BatchNormalization, MaxPooling2D, Lambda, Flatten, Dense\n",
    "from keras.layers.advanced_activations import LeakyReLU\n",
    "from keras.layers.core import Reshape\n",
    "from keras.layers.merge import concatenate\n",
    "import tensorflow as tf\n",
    "\n",
    "# Set backend as tensorflow\n",
    "from keras import backend as K\n",
    "K.set_image_dim_ordering(\"tf\")\n",
    "\n",
    "from PIL import Image\n",
    "import random\n",
    "import os\n",
    "import h5py\n",
    "\n",
    "%matplotlib inline"
   ]
  },
  {
   "cell_type": "code",
   "execution_count": 2,
   "metadata": {},
   "outputs": [],
   "source": [
    "BASE_DIR = \"./ships-in-satellite-imagery/shipsnet/\"\n",
    "TRAIN_ROWS = .8\n",
    "IMAGE_HEIGHT = 80\n",
    "IMAGE_WIDTH = 80\n",
    "COLOR_CHANNELS = 3"
   ]
  },
  {
   "cell_type": "code",
   "execution_count": 3,
   "metadata": {},
   "outputs": [],
   "source": [
    "def readFromImages():\n",
    "    file_list = os.listdir(BASE_DIR)\n",
    "    file_list = random.sample(file_list, len(file_list))\n",
    "\n",
    "    x_data = np.zeros((total_images, IMAGE_HEIGHT, IMAGE_WIDTH, COLOR_CHANNELS))\n",
    "    y_data = np.zeros((total_images, 1))\n",
    "\n",
    "    for f in range(total_images):\n",
    "        filename = file_list[f]\n",
    "        x_data[f] = plt.imread(BASE_DIR + filename, \"r\")\n",
    "        y_data[f] = int(filename.split(\"_\", 1)[0])\n",
    "\n",
    "    h5File = h5py.File(\"data.h5\", \"w\")\n",
    "    h5File.create_dataset(\"x_data\", data=x_data)\n",
    "    h5File.create_dataset(\"y_data\", data=y_data)\n",
    "    h5File.close()\n",
    "    \n",
    "    return x_data, y_data"
   ]
  },
  {
   "cell_type": "code",
   "execution_count": 4,
   "metadata": {},
   "outputs": [],
   "source": [
    "def readFromFile():\n",
    "    h5File = h5py.File(\"data.h5\")\n",
    "    x_data = h5File[\"x_data\"][:]\n",
    "    y_data = h5File[\"y_data\"][:]\n",
    "            \n",
    "    return x_data, y_data"
   ]
  },
  {
   "cell_type": "code",
   "execution_count": 5,
   "metadata": {},
   "outputs": [],
   "source": [
    "x_data, y_data = readFromFile()\n",
    "total_images = x_data.shape[0]\n",
    "\n",
    "train_rows = int(total_images * TRAIN_ROWS)\n",
    "\n",
    "x_train = x_data[:train_rows,:,:,:]\n",
    "y_train = y_data[:train_rows,:]\n",
    "x_test = x_data[train_rows:,:,:,:]\n",
    "y_test = y_data[train_rows:,:]"
   ]
  },
  {
   "cell_type": "code",
   "execution_count": 15,
   "metadata": {},
   "outputs": [
    {
     "name": "stdout",
     "output_type": "stream",
     "text": [
      "_________________________________________________________________\n",
      "Layer (type)                 Output Shape              Param #   \n",
      "=================================================================\n",
      "input_1 (InputLayer)         (None, 80, 80, 3)         0         \n",
      "_________________________________________________________________\n",
      "conv_1 (Conv2D)              (None, 80, 80, 32)        896       \n",
      "_________________________________________________________________\n",
      "norm_1 (BatchNormalization)  (None, 80, 80, 32)        128       \n",
      "_________________________________________________________________\n",
      "leaky_relu_1 (LeakyReLU)     (None, 80, 80, 32)        0         \n",
      "_________________________________________________________________\n",
      "max_pool_1 (MaxPooling2D)    (None, 40, 40, 32)        0         \n",
      "_________________________________________________________________\n",
      "conv_2 (Conv2D)              (None, 40, 40, 64)        18496     \n",
      "_________________________________________________________________\n",
      "norm_2 (BatchNormalization)  (None, 40, 40, 64)        256       \n",
      "_________________________________________________________________\n",
      "leaky_relu_2 (LeakyReLU)     (None, 40, 40, 64)        0         \n",
      "_________________________________________________________________\n",
      "conv_3 (Conv2D)              (None, 40, 40, 64)        36928     \n",
      "_________________________________________________________________\n",
      "norm_3 (BatchNormalization)  (None, 40, 40, 64)        256       \n",
      "_________________________________________________________________\n",
      "leaky_relu_3 (LeakyReLU)     (None, 40, 40, 64)        0         \n",
      "_________________________________________________________________\n",
      "max_pool_2 (MaxPooling2D)    (None, 20, 20, 64)        0         \n",
      "_________________________________________________________________\n",
      "conv_4 (Conv2D)              (None, 20, 20, 128)       73856     \n",
      "_________________________________________________________________\n",
      "norm_4 (BatchNormalization)  (None, 20, 20, 128)       512       \n",
      "_________________________________________________________________\n",
      "leaky_relu_4 (LeakyReLU)     (None, 20, 20, 128)       0         \n",
      "_________________________________________________________________\n",
      "max_pool_3 (MaxPooling2D)    (None, 10, 10, 128)       0         \n",
      "_________________________________________________________________\n",
      "conv_5 (Conv2D)              (None, 10, 10, 64)        73792     \n",
      "_________________________________________________________________\n",
      "norm_5 (BatchNormalization)  (None, 10, 10, 64)        256       \n",
      "_________________________________________________________________\n",
      "leaky_relu_5 (LeakyReLU)     (None, 10, 10, 64)        0         \n",
      "_________________________________________________________________\n",
      "max_pool_4 (MaxPooling2D)    (None, 5, 5, 64)          0         \n",
      "_________________________________________________________________\n",
      "conv_6 (Conv2D)              (None, 5, 5, 32)          18464     \n",
      "_________________________________________________________________\n",
      "norm_6 (BatchNormalization)  (None, 5, 5, 32)          128       \n",
      "_________________________________________________________________\n",
      "leaky_relu_6 (LeakyReLU)     (None, 5, 5, 32)          0         \n",
      "_________________________________________________________________\n",
      "max_pool_5 (MaxPooling2D)    (None, 2, 2, 32)          0         \n",
      "_________________________________________________________________\n",
      "conv_7 (Conv2D)              (None, 2, 2, 16)          4624      \n",
      "_________________________________________________________________\n",
      "norm_7 (BatchNormalization)  (None, 2, 2, 16)          64        \n",
      "_________________________________________________________________\n",
      "leaky_relu_7 (LeakyReLU)     (None, 2, 2, 16)          0         \n",
      "_________________________________________________________________\n",
      "max_pool_6 (MaxPooling2D)    (None, 1, 1, 16)          0         \n",
      "_________________________________________________________________\n",
      "flatten_1 (Flatten)          (None, 16)                0         \n",
      "_________________________________________________________________\n",
      "dense_1 (Dense)              (None, 1)                 17        \n",
      "=================================================================\n",
      "Total params: 228,673\n",
      "Trainable params: 227,873\n",
      "Non-trainable params: 800\n",
      "_________________________________________________________________\n"
     ]
    }
   ],
   "source": [
    "input_image = Input(shape=(80, 80, 3), name=\"input_1\")\n",
    "\n",
    "x = Conv2D(32, (3, 3), name=\"conv_1\", padding=\"same\")(input_image)\n",
    "x = BatchNormalization(name='norm_1')(x)\n",
    "x = LeakyReLU(alpha=0.5, name=\"leaky_relu_1\")(x)\n",
    "x = MaxPooling2D(pool_size=(2, 2), name=\"max_pool_1\")(x)\n",
    "\n",
    "x = Conv2D(64, (3, 3), name=\"conv_2\", padding=\"same\")(x)\n",
    "x = BatchNormalization(name='norm_2')(x)\n",
    "x = LeakyReLU(alpha=0.5, name=\"leaky_relu_2\")(x)\n",
    "\n",
    "x = Conv2D(64, (3, 3), name=\"conv_3\", padding=\"same\")(x)\n",
    "x = BatchNormalization(name='norm_3')(x)\n",
    "x = LeakyReLU(alpha=0.5, name=\"leaky_relu_3\")(x)\n",
    "x = MaxPooling2D(pool_size=(2, 2), name=\"max_pool_2\")(x)\n",
    "\n",
    "x = Conv2D(128, (3, 3), name=\"conv_4\", padding=\"same\")(x)\n",
    "x = BatchNormalization(name='norm_4')(x)\n",
    "x = LeakyReLU(alpha=0.5, name=\"leaky_relu_4\")(x)\n",
    "x = MaxPooling2D(pool_size=(2, 2), name=\"max_pool_3\")(x)\n",
    "\n",
    "x = Conv2D(64, (3, 3), name=\"conv_5\", padding=\"same\")(x)\n",
    "x = BatchNormalization(name='norm_5')(x)\n",
    "x = LeakyReLU(alpha=0.1, name=\"leaky_relu_5\")(x)\n",
    "x = MaxPooling2D(pool_size=(2, 2), name=\"max_pool_4\")(x)\n",
    "\n",
    "x = Conv2D(32, (3, 3), name=\"conv_6\", padding=\"same\")(x)\n",
    "x = BatchNormalization(name='norm_6')(x)\n",
    "x = LeakyReLU(alpha=0.1, name=\"leaky_relu_6\")(x)\n",
    "x = MaxPooling2D(pool_size=(2, 2), name=\"max_pool_5\")(x)\n",
    "\n",
    "x = Conv2D(16, (3, 3), name=\"conv_7\", padding=\"same\")(x)\n",
    "x = BatchNormalization(name='norm_7')(x)\n",
    "x = LeakyReLU(alpha=0.1, name=\"leaky_relu_7\")(x)\n",
    "x = MaxPooling2D(pool_size=(2, 2), name=\"max_pool_6\")(x)\n",
    "\n",
    "x = Flatten(name=\"flatten_1\")(x)\n",
    "x = Dense(1, name=\"dense_1\")(x)\n",
    "\n",
    "model = Model(inputs=input_image, outputs=x)\n",
    "\n",
    "model.summary()"
   ]
  },
  {
   "cell_type": "code",
   "execution_count": 16,
   "metadata": {},
   "outputs": [],
   "source": [
    "# For a binary classification problem\n",
    "model.compile(optimizer='adam',\n",
    "              loss='mean_squared_logarithmic_error',\n",
    "              metrics=['accuracy'])"
   ]
  },
  {
   "cell_type": "code",
   "execution_count": null,
   "metadata": {},
   "outputs": [
    {
     "name": "stdout",
     "output_type": "stream",
     "text": [
      "Epoch 1/4\n",
      "2240/2240 [==============================] - 176s 78ms/step - loss: 0.0512 - acc: 0.5375\n",
      "Epoch 2/4\n",
      "1152/2240 [==============>...............] - ETA: 1:21 - loss: 0.0214 - acc: 0.6962"
     ]
    }
   ],
   "source": [
    "# Train the model, iterating on the data in batches of 32 samples\n",
    "model.fit(x_train, y_train, epochs=4, batch_size=32)"
   ]
  },
  {
   "cell_type": "code",
   "execution_count": 21,
   "metadata": {},
   "outputs": [
    {
     "name": "stdout",
     "output_type": "stream",
     "text": [
      "560/560 [==============================] - 13s 23ms/step\n"
     ]
    },
    {
     "data": {
      "text/plain": [
       "[0.0087508548982441429, 0.61250000000000004]"
      ]
     },
     "execution_count": 21,
     "metadata": {},
     "output_type": "execute_result"
    }
   ],
   "source": [
    "model.evaluate(x_test, y_test)"
   ]
  },
  {
   "cell_type": "code",
   "execution_count": null,
   "metadata": {},
   "outputs": [],
   "source": []
  },
  {
   "cell_type": "code",
   "execution_count": null,
   "metadata": {},
   "outputs": [],
   "source": []
  },
  {
   "cell_type": "code",
   "execution_count": null,
   "metadata": {},
   "outputs": [],
   "source": []
  }
 ],
 "metadata": {
  "kernelspec": {
   "display_name": "Python 2",
   "language": "python",
   "name": "python2"
  },
  "language_info": {
   "codemirror_mode": {
    "name": "ipython",
    "version": 2
   },
   "file_extension": ".py",
   "mimetype": "text/x-python",
   "name": "python",
   "nbconvert_exporter": "python",
   "pygments_lexer": "ipython2",
   "version": "2.7.14"
  }
 },
 "nbformat": 4,
 "nbformat_minor": 2
}
